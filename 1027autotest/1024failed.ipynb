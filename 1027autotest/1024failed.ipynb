{
 "cells": [
  {
   "cell_type": "markdown",
   "metadata": {},
   "source": [
    "# http://wiki.openstreetmap.org/wiki/Zh-hant:update-automatically\n",
    "\n",
    "參考網站:自動更新程式"
   ]
  },
  {
   "cell_type": "code",
   "execution_count": null,
   "metadata": {
    "collapsed": true
   },
   "outputs": [],
   "source": [
    "# coding: utf-8\n",
    "#\n",
    "# 台灣 OSM 圖資自動更新程式，會自動檢查更新，有更新時下載，並且匯入到 PostGIS\n",
    "#\n",
    "# 系統需求:\n",
    "# * wget\n",
    "# * osm2pgsql 並且內含 PBF 圖資格式支援\n",
    "#\n",
    "# 測試環境:\n",
    "# * Ubuntu 14.04.1 LTS\n",
    "# * OS X Yosemite 10.10.3\n",
    " \n",
    "import os\n",
    "import hashlib\n",
    "from os.path import expanduser\n",
    " \n",
    "RETRY_LIMIT = 3\n",
    "HOME        = expanduser(\"~\")\n",
    " \n",
    "# PostgreSQL 參數\n",
    "# TODO: 以後要改成從安全的設定檔讀取\n",
    "DB_HOST = '127.0.0.1'\n",
    "DB_USER = 'osm'\n",
    "DB_PASS = 'osm4326'\n",
    "DB_NAME = 'osm'\n",
    " \n",
    "# 圖資參數\n",
    "MAP_EXTRACT = 'taiwan-latest.osm.pbf'\n",
    "URL_MD5     = 'http://download.geofabrik.de/asia/%s.md5' % MAP_EXTRACT\n",
    "URL_FILE    = 'http://download.geofabrik.de/asia/%s' % MAP_EXTRACT\n",
    "MD5_PREV    = '%s/osm-data/prev.md5' % HOME\n",
    "MD5_CURR    = '%s/osm-data/curr.md5' % HOME\n",
    "LOCAL_FILE  = '%s/osm-data/%s' % (HOME, MAP_EXTRACT)\n",
    " \n",
    "## 檢查是否有更新圖資\n",
    "def isUpdated():\n",
    "    # 先下載新的 MD5\n",
    "    os.system('wget -nv %s -O %s' % (URL_MD5, MD5_CURR))\n",
    " \n",
    "    # 檢查是否有舊的 MD5 與圖資，如果沒有舊記錄，就視為要更新\n",
    "    if os.path.isfile(MD5_PREV)   is False: return True\n",
    "    if os.path.isfile(LOCAL_FILE) is False: return True\n",
    " \n",
    "    # 新舊 MD5 比對，如果 MD5 不同就視為要更新\n",
    "    ret = os.system('diff %s %s' % (MD5_PREV, MD5_CURR))\n",
    "    if ret != 0: return True\n",
    " \n",
    "    # MD5 相同，不用更新\n",
    "    return False\n",
    " \n",
    "## 更新圖資，並且檢查 MD5，如果檔案完整就回傳 True\n",
    "#  (注意! 因為 OSX 缺少 md5sum 指令，所以統一用 hashlib 計算 MD5 摘要)\n",
    "def updateOSM():\n",
    "    os.system('wget -nv %s -O %s' % (URL_FILE, LOCAL_FILE))        # 下載圖資\n",
    "    md5sum = hashlib.md5(open(LOCAL_FILE,'rb').read()).hexdigest() # 比對 MD5\n",
    "    ret = os.system('grep %s %s' % (md5sum, MD5_CURR))             \n",
    "    if ret == 0:\n",
    "        os.system('mv -f %s %s' % (MD5_CURR, MD5_PREV))            # 新 MD5 轉換為舊 MD5\n",
    "        return True\n",
    "    return False\n",
    " \n",
    "if isUpdated():\n",
    "    # 下載圖資\n",
    "    cnt = 0\n",
    "    while(updateOSM() is False):\n",
    "        cnt = cnt + 1\n",
    "        if cnt > RETRY_LIMIT:\n",
    "            print('圖資下載失敗')\n",
    "            exit(1)\n",
    "    print('圖資下載成功，匯入到 PostGIS')\n",
    " \n",
    "    # 匯入到 PostgreSQL\n",
    "    # 使用較保守的參數，避免在便宜的雲端空間撐爆記憶體\n",
    "    command = '''\n",
    "        export PGPASS=\"%s\"\n",
    "        osm2pgsql \\\n",
    "            --cache 256 \\\n",
    "            --cache-strategy sparse \\\n",
    "            -l -H %s -U %s -d %s %s\n",
    "        unset PGPASS\n",
    "    '''\n",
    "    params  = (DB_PASS, DB_HOST, DB_USER, DB_NAME, LOCAL_FILE)\n",
    "    os.system(command % params)\n",
    "    print('匯入完成')\n",
    " \n",
    "    exit(0)\n",
    "else:\n",
    "    print('圖資沒更新，不需要下載')\n",
    "    exit(0)"
   ]
  },
  {
   "cell_type": "code",
   "execution_count": null,
   "metadata": {
    "collapsed": true
   },
   "outputs": [],
   "source": []
  },
  {
   "cell_type": "code",
   "execution_count": 25,
   "metadata": {
    "collapsed": false
   },
   "outputs": [],
   "source": [
    "#暴力下載googleㄉㄜ\n",
    "\n",
    "import urllib2\n",
    "from cookielib import CookieJar\n",
    "\n",
    "spreadsheet_url = \"https://drive.google.com/uc?export=download&id=0B2SvMZ4W0Y5QWEFRR2FDY3hzLXc\"\n",
    "opener = urllib2.build_opener(urllib2.HTTPCookieProcessor(CookieJar()))\n",
    "response = opener.open(spreadsheet_url) \n",
    "with open(\"data.csv\", \"wb\") as f:\n",
    "    f.write(response.read())"
   ]
  },
  {
   "cell_type": "code",
   "execution_count": null,
   "metadata": {
    "collapsed": true
   },
   "outputs": [],
   "source": [
    "\n",
    "\n",
    "def CheckStatus(fileName, Need_Delete):\n",
    "    \"\"\"\n",
    "    input : 檔案路徑和名稱\n",
    "    output : 呼叫下一位 (TC Project suit)\n",
    "    target:\n",
    "    TC 動作做完的時候會寫出一個檔案根Python 說\"老子我做完了你可以叫下一個Project\" 開始做了\n",
    "    如果Need_Delete 是TRUE的話發現檔案存在就將其刪除\n",
    "    \"\"\"\n",
    "    if Need_Delete == True:\n",
    "        if os.path.exists(fileName):\n",
    "            os.remove(fileName)\n",
    "    else:\n",
    "        while not os.path.exists(fileName):\n",
    "            time.sleep(5)\n",
    "        time.sleep(60)#休息一分鐘再繼續\n",
    " \n",
    "#呼叫範例\n",
    "CheckStatus(\"C:\\\\Result.txt\", True)#初始化環境，如果被檢查的檔案在執行程式之前就存在的話就將其刪除\n",
    "#\n",
    "# Do some thing here........執行程式，並且產出檔案\n",
    "#\n",
    "CheckStatus(\"C:\\\\Result.txt\", False)#每隔5秒鐘檢查看檔案是否被輸出"
   ]
  },
  {
   "cell_type": "code",
   "execution_count": null,
   "metadata": {
    "collapsed": true
   },
   "outputs": [],
   "source": []
  }
 ],
 "metadata": {
  "anaconda-cloud": {},
  "kernelspec": {
   "display_name": "Python [Root]",
   "language": "python",
   "name": "Python [Root]"
  },
  "language_info": {
   "codemirror_mode": {
    "name": "ipython",
    "version": 2
   },
   "file_extension": ".py",
   "mimetype": "text/x-python",
   "name": "python",
   "nbconvert_exporter": "python",
   "pygments_lexer": "ipython2",
   "version": "2.7.12"
  }
 },
 "nbformat": 4,
 "nbformat_minor": 0
}
