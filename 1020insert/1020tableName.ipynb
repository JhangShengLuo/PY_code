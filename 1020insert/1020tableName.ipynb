{
 "cells": [
  {
   "cell_type": "code",
   "execution_count": null,
   "metadata": {
    "collapsed": true
   },
   "outputs": [],
   "source": []
  },
  {
   "cell_type": "code",
   "execution_count": 1,
   "metadata": {
    "collapsed": false
   },
   "outputs": [],
   "source": [
    "#!/usr/bin/env python\n",
    "# -*- coding: utf-8 -*-\n",
    "\n",
    "# 原始檔更換欄位名稱，及頭尾去掉\n",
    "\n",
    "import sys\n",
    "default_stdout = sys.stdout\n",
    "default_stderr = sys.stderr\n",
    "reload(sys)\n",
    "sys.stdout = default_stdout\n",
    "sys.stderr = default_stderr\n",
    "sys.setdefaultencoding('utf-8')\n",
    "\n",
    "import csv,io\n",
    "import os\n",
    "     \n",
    "if not os.path.exists('done'):\n",
    "    os.makedirs('done')\n",
    "    \n",
    "files=[]\n",
    "for f in os.listdir('./infiark1/'):\n",
    "    if os.path.isfile('./infiark1/'+f):\n",
    "        files.append(f)\n",
    "for f in files:\n",
    "    if '.csv' in f:\n",
    "        with io.open('infiark1/'+f,'r',encoding='utf-8')as rfile:\n",
    "            ff=[]\n",
    "            for ele in rfile:\n",
    "                ff.append(ele)\n",
    "#                 檔案名字用VD的編號\n",
    "            fname = ff[2:-2][0].split(',')[0]\n",
    "            with io.open('done/'+fname+'.csv','w',encoding='utf-8') as wfile:\n",
    "                wfile.write(u'''EQIPnumber,location,direct,YMD,hour,laneNumber,addTotal,15Total,truckflow,carflow,scooterflow,avgspeed,avgPercent,avgCarSpace'''+u'\\n')\n",
    "                for ele in ff[2:-2]:\n",
    "                    if ele.split(',')[-4] == '-1.0':\n",
    "                        continue\n",
    "                    else:\n",
    "                        wfile.write(','.join(ele.split(' '))[:-2]+'\\n')\n",
    "                "
   ]
  },
  {
   "cell_type": "code",
   "execution_count": null,
   "metadata": {
    "collapsed": true
   },
   "outputs": [],
   "source": []
  },
  {
   "cell_type": "code",
   "execution_count": null,
   "metadata": {
    "collapsed": true
   },
   "outputs": [],
   "source": []
  },
  {
   "cell_type": "code",
   "execution_count": 2,
   "metadata": {
    "collapsed": false
   },
   "outputs": [],
   "source": [
    "# 把方向自動分成東西南北跟未指定\n",
    "\n",
    "import csv,io\n",
    "import os\n",
    "\n",
    "if not os.path.exists('clean'):\n",
    "    os.makedirs('clean')\n",
    "\n",
    "\n",
    "files=[]\n",
    "for f in os.listdir('./done/'):\n",
    "    if os.path.isfile('./done/'+f):\n",
    "        files.append(f)\n",
    "for f in files:\n",
    "    if '.csv' in f:\n",
    "        Ntemp=[]\n",
    "        Stemp=[]\n",
    "        Etemp=[]\n",
    "        Wtemp=[]\n",
    "        Utemp=[]\n",
    "        ff=[]\n",
    "        with io.open('./done/'+f,'r',encoding='utf-8')as rfile:\n",
    "            for line in rfile:\n",
    "                ff.append(line)\n",
    "            for ele in ff[1:]:\n",
    "                if (ele.split(',')[2] == '往北')or(ele.split(',')[2] == '向北'):\n",
    "                    Ntemp.append(ele)\n",
    "                elif (ele.split(',')[2] == '往南')or (ele.split(',')[2] == '向南'):\n",
    "                    Stemp.append(ele)\n",
    "                elif (ele.split(',')[2] == '往東')or(ele.split(',')[2] == '向東'):\n",
    "                    Etemp.append(ele)\n",
    "                elif (ele.split(',')[2] == '往西')or(ele.split(',')[2] == '向西'):\n",
    "                    Wtemp.append(ele)\n",
    "                elif ele.split(',')[2] == '未指定':\n",
    "                    Utemp.append(ele)\n",
    "#                 這裡挑出方向之後在VD編號上再加入方向性  \n",
    "                \n",
    "        if Ntemp:\n",
    "            with io.open('clean/'+'N'+f,'w',encoding='utf-8') as nfile:\n",
    "                nfile.write(ff[0])\n",
    "                for ele in Ntemp:\n",
    "                    nfile.write(ele)\n",
    "        if Stemp:\n",
    "            with io.open('clean/'+'S'+f,'w',encoding='utf-8') as sfile:\n",
    "                sfile.write(ff[0])\n",
    "                for ele in Stemp:\n",
    "                    sfile.write(ele)\n",
    "        if  Etemp:\n",
    "            with io.open('clean/'+'E'+f,'w',encoding='utf-8') as efile:\n",
    "                efile.write(ff[0])\n",
    "                for ele in Etemp:\n",
    "                    efile.write(ele)\n",
    "        if Wtemp:\n",
    "            with io.open('clean/'+'W'+f,'w',encoding='utf-8') as wfile:\n",
    "                wfile.write(ff[0])\n",
    "                for ele in Wtemp:\n",
    "                    wfile.write(ele)\n",
    "        if Utemp:\n",
    "            with io.open('clean/'+'U'+f,'w',encoding='utf-8') as ufile:\n",
    "                ufile.write(ff[0])\n",
    "                for ele in Utemp:\n",
    "                    ufile.write(ele)"
   ]
  },
  {
   "cell_type": "code",
   "execution_count": null,
   "metadata": {
    "collapsed": true
   },
   "outputs": [],
   "source": []
  },
  {
   "cell_type": "code",
   "execution_count": null,
   "metadata": {
    "collapsed": true
   },
   "outputs": [],
   "source": []
  },
  {
   "cell_type": "code",
   "execution_count": null,
   "metadata": {
    "collapsed": true
   },
   "outputs": [],
   "source": []
  }
 ],
 "metadata": {
  "anaconda-cloud": {},
  "kernelspec": {
   "display_name": "Python [Root]",
   "language": "python",
   "name": "Python [Root]"
  },
  "language_info": {
   "codemirror_mode": {
    "name": "ipython",
    "version": 2
   },
   "file_extension": ".py",
   "mimetype": "text/x-python",
   "name": "python",
   "nbconvert_exporter": "python",
   "pygments_lexer": "ipython2",
   "version": "2.7.12"
  }
 },
 "nbformat": 4,
 "nbformat_minor": 0
}
