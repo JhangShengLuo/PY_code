{
 "cells": [
  {
   "cell_type": "code",
   "execution_count": null,
   "metadata": {
    "collapsed": true
   },
   "outputs": [],
   "source": [
    "def create_table():\n",
    "    try:\n",
    "        conn = mysql.connector.connect(host='rdb.cpt4facutups.ap-southeast-1.rds.amazonaws.com:3306',\n",
    "                                       database='RDBname',\n",
    "                                       user='root',\n",
    "                                       password='12345678')\n",
    "        cursor = conn.cursor()\n",
    "       \n",
    "\n",
    "        query = ('''create table succeed (EQIPnumber varchar(255),location varchar(255),direct varchar(25),\n",
    "        YMD varchar(25),hour varchar(25),laneNumber int(2),addTotal double,15Total double,truckflow double,\n",
    "        carflow double,scooterflow double,avgspeed double,avgPercent double,avgCarSpace double);''')\n",
    "        cursor.execute(query)\n",
    "        conn.commit()\n",
    "    except Error as e:\n",
    "        print(e)\n",
    "        with open('~/create.txt','w') as here3:\n",
    "            here3.write(u'create exception'+u'\\n')\n",
    "            here3.write(str(sys.stderr)+u'\\n')\n",
    "            here3.write(str(sys.exc_info()[0])+u'\\n')\n",
    "            here3.write(str(sys.exc_info()[1])+u'\\n')\n",
    "            here3.write(str(sys.exc_info()[2])+u'\\n')\n",
    "    finally:\n",
    "        cursor.close()\n",
    "        conn.close()\n",
    "    "
   ]
  },
  {
   "cell_type": "code",
   "execution_count": null,
   "metadata": {
    "collapsed": true
   },
   "outputs": [],
   "source": [
    "create_table()"
   ]
  }
 ],
 "metadata": {
  "kernelspec": {
   "display_name": "Python [Root]",
   "language": "python",
   "name": "Python [Root]"
  },
  "language_info": {
   "codemirror_mode": {
    "name": "ipython",
    "version": 2
   },
   "file_extension": ".py",
   "mimetype": "text/x-python",
   "name": "python",
   "nbconvert_exporter": "python",
   "pygments_lexer": "ipython2",
   "version": "2.7.12"
  }
 },
 "nbformat": 4,
 "nbformat_minor": 0
}
