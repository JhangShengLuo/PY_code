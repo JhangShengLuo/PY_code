{
 "cells": [
  {
   "cell_type": "code",
   "execution_count": null,
   "metadata": {
    "collapsed": true
   },
   "outputs": [],
   "source": []
  },
  {
   "cell_type": "code",
   "execution_count": 2,
   "metadata": {
    "collapsed": false
   },
   "outputs": [],
   "source": [
    "'''\n",
    "1121把今天拿回來的新的VD資料，整個先存進資料庫然後再產csv給昌儒\n",
    "1128把資料夾的名稱更改成易閱讀的方式，更改成可用於S3。\n",
    "\n",
    "'''\n",
    "\n",
    "\n",
    "#檢查data的內容！\n",
    "import os\n",
    "import sys\n",
    "import io\n",
    "import csv\n",
    "import time\n",
    "import shutil\n",
    "\n",
    "default_stdout = sys.stdout\n",
    "default_stderr = sys.stderr\n",
    "reload(sys)\n",
    "sys.stdout = default_stdout\n",
    "sys.stderr = default_stderr\n",
    "sys.setdefaultencoding('utf-8')\n",
    "def check_data_v3_1121():\n",
    "    try:\n",
    "        fileslist=[]\n",
    "        for root,dirs,files in os.walk('/Users/Jackie/Desktop/1128/'):\n",
    "            for ele in files:\n",
    "                if '.csv' in ele:\n",
    "                    fileslist.append(root+'/'+ele)\n",
    "        direct=[]\n",
    "        for f in fileslist:\n",
    "            # 把csv的資料存進[]\n",
    "            ff=[]\n",
    "            with io.open(f,'r',encoding='utf-8') as rfile:\n",
    "                for line in rfile:\n",
    "                    ff.append(line)\n",
    "            count=0\n",
    "#                 print len(ff[2:-2])\n",
    "            for ele in ff[2:-2]:\n",
    "                # direct為已知的方向資料\n",
    "                direct=['往北','往南','往東','往西','向北','向南','向東','向西','北','南','東','西',\\\n",
    "                        '未指定','正向放置','反向放置']\n",
    "                # 若存在則繼續\n",
    "                if ele[:-2].split(',')[2] in direct:\n",
    "                    if ele.split(',')[-4] == '-1.0':\n",
    "                        count += 1\n",
    "                        if count == len(ff[2:-2]):\n",
    "                            import time\n",
    "                            '''\n",
    "                            應該要寫個log檔\n",
    "                            \n",
    "                            '''\n",
    "                            print '只有0'\n",
    "                            print f\n",
    "                            ct = time.strftime('%Y%m%d',time.localtime())\n",
    "                            if not os.path.exists('/Users/Jackie/Desktop/1128/'+ct):\n",
    "                                os.makedirs('/Users/Jackie/Desktop/1128/'+ct)\n",
    "                            shutil.move(f,'/Users/Jackie/Desktop/1128/'+ct)\n",
    "                # 不存在[]內就印出方向是朝向哪，及檔案名稱。\n",
    "                else:\n",
    "                    import time\n",
    "                    ct = time.strftime('%Y%m%d',time.localtime())\n",
    "                    if not os.path.exists('/Users/Jackie/Desktop/1128/'+ct):\n",
    "                        os.makedirs('/Users/Jackie/Desktop/1128/'+ct)\n",
    "                    '''\n",
    "                    應該要寫個log檔\n",
    "                    \n",
    "                    '''\n",
    "                    print ele[:-2].split(',')[2]\n",
    "                    print f \n",
    "                    # \n",
    "                    shutil.move(f,'/Users/Jackie/Desktop/1128/'+ct)\n",
    "                    break\n",
    "                colnum = []\n",
    "                for el in ele[:-2].split(','):\n",
    "                    if ele[:-2].split(',')[3] == el:\n",
    "                        YMD = (ele.split(',')[3]).split(' ')[0]\n",
    "                        time = (ele.split(',')[3]).split(' ')[1]\n",
    "                        colnum.append(YMD)\n",
    "                        colnum.append(time)\n",
    "                    else:\n",
    "                        colnum.append(el)\n",
    "                if len(colnum) == 14:\n",
    "                    pass\n",
    "                else:\n",
    "                    import time\n",
    "                    ct = time.strftime('%Y%m%d',time.localtime())\n",
    "                    if not os.path.exists('/Users/Jackie/Desktop/1128/'+ct):\n",
    "                        os.makedirs('/Users/Jackie/Desktop/1128/'+ct)\n",
    "                        \n",
    "                    '''\n",
    "                    應該要寫個log檔\n",
    "                    \n",
    "                    '''\n",
    "                    print('這個row資料異常')\n",
    "                    print ele\n",
    "                    print('正常要14欄位，這裡只有'+str(len(colnum))+'欄位 ')\n",
    "                    shutil.move(f,'/Users/Jackie/Desktop/1128/'+ct+'/')\n",
    "                    break\n",
    "    except:\n",
    "        with open('/Users/Jackie/Desktop/1128/check_error.txt','w') as here3:\n",
    "            here3.write(u'check_error exception'+u'\\n')\n",
    "            here3.write(str(sys.stderr)+u'\\n')\n",
    "            here3.write(str(sys.exc_info()[0])+u'\\n')\n",
    "            here3.write(str(sys.exc_info()[1])+u'\\n')\n",
    "            here3.write(str(sys.exc_info()[2])+u'\\n')"
   ]
  },
  {
   "cell_type": "code",
   "execution_count": 3,
   "metadata": {
    "collapsed": false
   },
   "outputs": [
    {
     "name": "stdout",
     "output_type": "stream",
     "text": [
      "只有0\n",
      "/Users/Jackie/Desktop/1128/外圍/麥帥接塔悠/V6110C0.csv\n"
     ]
    }
   ],
   "source": [
    "check_data_v3_1121()"
   ]
  },
  {
   "cell_type": "code",
   "execution_count": null,
   "metadata": {
    "collapsed": true
   },
   "outputs": [],
   "source": []
  }
 ],
 "metadata": {
  "anaconda-cloud": {},
  "kernelspec": {
   "display_name": "Python [Root]",
   "language": "python",
   "name": "Python [Root]"
  },
  "language_info": {
   "codemirror_mode": {
    "name": "ipython",
    "version": 2
   },
   "file_extension": ".py",
   "mimetype": "text/x-python",
   "name": "python",
   "nbconvert_exporter": "python",
   "pygments_lexer": "ipython2",
   "version": "2.7.12"
  }
 },
 "nbformat": 4,
 "nbformat_minor": 0
}
