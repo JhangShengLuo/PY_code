{
 "cells": [
  {
   "cell_type": "code",
   "execution_count": 15,
   "metadata": {
    "collapsed": false
   },
   "outputs": [
    {
     "name": "stdout",
     "output_type": "stream",
     "text": [
      "None\n"
     ]
    }
   ],
   "source": [
    "import os, sys\n",
    "\n",
    "\n",
    "R_HOME = os.environ.get(\"R_HOME\")\n",
    "\n",
    "\n",
    "\n",
    "\n",
    "\n",
    "\n",
    "print R_HOME"
   ]
  },
  {
   "cell_type": "code",
   "execution_count": 14,
   "metadata": {
    "collapsed": false
   },
   "outputs": [
    {
     "name": "stdout",
     "output_type": "stream",
     "text": [
      "'/Library/Frameworks/R.framework/Resources'\n"
     ]
    }
   ],
   "source": [
    "import os\n",
    "import sys\n",
    "import warnings\n",
    "import subprocess\n",
    "\n",
    "def _r_home_from_subprocess():\n",
    "    \"\"\"Return the R home directory from calling 'R RHOME'.\"\"\"\n",
    "    try:\n",
    "        tmp = subprocess.check_output((\"R\", \"RHOME\"), universal_newlines=True)\n",
    "    except Exception as exc:  # FileNotFoundError, WindowsError, etc\n",
    "        return\n",
    "    r_home = tmp.split(os.linesep)\n",
    "    if r_home[0].startswith(\"WARNING\"):\n",
    "        r_home = r_home[1]\n",
    "    else:\n",
    "        r_home = r_home[0].strip()\n",
    "    return r_home\n",
    "\n",
    "R_HOME = os.environ.get(\"R_HOME\")\n",
    "\n",
    "if not R_HOME:\n",
    "    R_HOME = _r_home_from_subprocess()\n",
    "    print repr(R_HOME)\n",
    "    \n",
    "    \n",
    "    \n",
    "if not R_HOME:\n",
    "    print \"o\"\n",
    "\n",
    "# R_HOME=_r_home_from_subprocess()\n",
    "# print R_HOME"
   ]
  },
  {
   "cell_type": "code",
   "execution_count": 17,
   "metadata": {
    "collapsed": false
   },
   "outputs": [
    {
     "name": "stdout",
     "output_type": "stream",
     "text": [
      "o\n"
     ]
    }
   ],
   "source": [
    "import os\n",
    "import sys\n",
    "import warnings\n",
    "import subprocess\n",
    "R_HOME = '/Library/Frameworks/R.framework/Resources'\n",
    "\n",
    "if not R_HOME:\n",
    "    print \"o\""
   ]
  },
  {
   "cell_type": "code",
   "execution_count": null,
   "metadata": {
    "collapsed": true
   },
   "outputs": [],
   "source": []
  }
 ],
 "metadata": {
  "kernelspec": {
   "display_name": "Python [Root]",
   "language": "python",
   "name": "Python [Root]"
  },
  "language_info": {
   "codemirror_mode": {
    "name": "ipython",
    "version": 2
   },
   "file_extension": ".py",
   "mimetype": "text/x-python",
   "name": "python",
   "nbconvert_exporter": "python",
   "pygments_lexer": "ipython2",
   "version": "2.7.12"
  }
 },
 "nbformat": 4,
 "nbformat_minor": 0
}
