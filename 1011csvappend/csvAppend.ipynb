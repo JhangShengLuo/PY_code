{
 "cells": [
  {
   "cell_type": "code",
   "execution_count": 1,
   "metadata": {
    "collapsed": false
   },
   "outputs": [],
   "source": [
    "#!/usr/bin/env python\n",
    "# -*- coding: utf-8 -*-\n",
    "\n",
    "import csv,io\n",
    "import sys\n",
    "default_stdout = sys.stdout\n",
    "default_stderr = sys.stderr\n",
    "reload(sys)\n",
    "sys.stdout = default_stdout\n",
    "sys.stderr = default_stderr\n",
    "sys.setdefaultencoding('utf-8')\n",
    "\n",
    "\n",
    "with io.open('total.csv','r',encoding='utf-8')as readcsv:\n",
    "    with io.open('totala.csv','w',encoding='utf-8')as appcsv:\n",
    "        for lines in readcsv:\n",
    "            rows=lines.split(',')\n",
    "            for ele in range(len(rows)):\n",
    "                if ele != len(rows) - 1:\n",
    "                    appcsv.write(rows[ele]+u',')\n",
    "                    if rows[ele] == u'民權東路':\n",
    "                        appcsv.write('2'+u',')\n",
    "                    elif rows[ele] == u'堤頂大道':\n",
    "                        appcsv.write('2'+u',')\n",
    "                    elif rows[ele] == u'舊宗路':\n",
    "                        appcsv.write('3'+u',')\n",
    "                else:\n",
    "                    appcsv.write(rows[ele])\n",
    "\n",
    "\n",
    "\n"
   ]
  },
  {
   "cell_type": "code",
   "execution_count": null,
   "metadata": {
    "collapsed": true
   },
   "outputs": [],
   "source": []
  }
 ],
 "metadata": {
  "anaconda-cloud": {},
  "kernelspec": {
   "display_name": "Python [Root]",
   "language": "python",
   "name": "Python [Root]"
  },
  "language_info": {
   "codemirror_mode": {
    "name": "ipython",
    "version": 2
   },
   "file_extension": ".py",
   "mimetype": "text/x-python",
   "name": "python",
   "nbconvert_exporter": "python",
   "pygments_lexer": "ipython2",
   "version": "2.7.12"
  }
 },
 "nbformat": 4,
 "nbformat_minor": 0
}
