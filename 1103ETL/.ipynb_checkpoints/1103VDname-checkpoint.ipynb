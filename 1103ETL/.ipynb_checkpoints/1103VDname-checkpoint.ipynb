{
 "cells": [
  {
   "cell_type": "markdown",
   "metadata": {},
   "source": [
    "\n",
    "內湖易壅塞路段\n",
    "成功路3段\n",
    "UVSSWC60\n",
    "1. 成功路2段\n",
    "NVQ6WK40\n",
    "SVQ6WK40\n",
    "NVQKWL40\n",
    "SVQKWL40\n",
    "SVQKWL00\n",
    "NVQKWL00\n",
    "2. 舊宗路2段 \n",
    "SVQRTE00\n",
    "NVQRTE00\n",
    "3. 瑞光路 \n",
    "SVSNRE00\n",
    "NVSNRE00\n",
    "NVS6TI00\n",
    "SVS6TI00\n",
    "4. 民權東路6段 \n",
    "EVQKWL60\n",
    "WVQKWL60\n",
    "EVQKWL61\n",
    "WVQKWL61\n",
    "EVQEUU60\n",
    "WVQEUU60\n",
    "5. 港墘路\n",
    "NVS9TE00\n",
    "SVS9TE00\n",
    "6. 康寧路3段 \n",
    "7. 堤頂大道1段\n",
    "NVRPSV00\n",
    "SVRPSV00\n",
    "NVPMSV40\n",
    "SVPMSV40\n",
    "堤頂大道2段\n",
    "NVT5QV00\n",
    "SVT5QV00\n",
    "8. 內湖路1段\n",
    "9. 瑞湖街\n",
    "10. 陽光街\n",
    "11. 東湖路\n",
    "12. 南京東路6段\n",
    "13. 麥帥ㄧ,二橋\n",
    "\n",
    "\n"
   ]
  },
  {
   "cell_type": "code",
   "execution_count": 28,
   "metadata": {
    "collapsed": false
   },
   "outputs": [],
   "source": [
    "import io\n",
    "import sys\n",
    "default_stdout = sys.stdout\n",
    "default_stderr = sys.stderr\n",
    "reload(sys)\n",
    "sys.stdout = default_stdout\n",
    "sys.stderr = default_stderr\n",
    "sys.setdefaultencoding('utf-8')\n",
    "import csv\n",
    "import mysql.connector\n",
    "from mysql.connector import MySQLConnection, Error\n",
    "def query():\n",
    "    \"\"\"\n",
    "    1027ETL改正版，原先的query太多筆，所以現在將要查詢的table整個寫成一個list\n",
    "    \n",
    "    \"\"\"\n",
    "    try:\n",
    "        conn = mysql.connector.connect(host='localhost',\n",
    "                                       database='VDDB',\n",
    "                                       user='root',\n",
    "                                       password='apple')\n",
    "        cursor = conn.cursor()\n",
    "        # 將要查詢的table以及所屬道路寫成list，方便印出也可以用在query上。\n",
    "        Tablename=['UVSSWC60,成功路3段','NVQ6WK40,成功路2段','SVQ6WK40,成功路2段','NVQKWL40,成功路2段',\\\n",
    "                   'SVQKWL40,成功路2段','SVQKWL00,成功路2段','NVQKWL00,成功路2段','SVQRTE00,舊宗路2段',\\\n",
    "                   'NVQRTE00,舊宗路2段','SVSNRE00,瑞光路','NVSNRE00,瑞光路','NVS6TI00,瑞光路','SVS6TI00,瑞光路',\\\n",
    "                   'EVQEUU60,民權東路六段','EVQKWL60,民權東路六段','EVQKWL61,民權東路六段','WVQEUU60,民權東路六段',\\\n",
    "                   'WVQKWL60,民權東路六段','WVQKWL61,民權東路六段','NVS9TE00,港墘路','SVS9TE00,港墘路',\\\n",
    "                   'NVRPSV00,堤頂大道1段','SVRPSV00,堤頂大道1段','NVPMSV40,堤頂大道1段','SVPMSV40,堤頂大道1段',\\\n",
    "                   'NVT5QV00,堤頂大道2段','SVT5QV00,堤頂大道2段']\n",
    "        # 開一個csv檔寫入\n",
    "        with io.open('1103易壅塞路段.csv','w',encoding='utf-8')as RDBque:\n",
    "            # 寫欄位名稱\n",
    "            RDBque.write(\"VD編號,道路,位置,道路數,方向,日期,時間,當量,平均速度,平均佔有率,平均車間距,星期\"+u'\\n')\n",
    "            i=0\n",
    "            for ele in Tablename:\n",
    "                table=[]\n",
    "                table.append(ele.split(',')[0])\n",
    "                # 這裡query的寫法參照format的特殊用法，https://pyformat.info/\n",
    "                select_join=(\"\"\"select {r[0]}.location,{r[0]}.lanenumber,{r[0]}.direct,{r[0]}.YMD,{r[0]}.hour,\n",
    "                {r[0]}.15Total  ,{r[0]}.avgspeed ,{r[0]}.avgpercent , {r[0]}.avgCarSpace ,rain.WD from {r[0]} \n",
    "                join rain on {r[0]}.YMD=rain.YMD;\"\"\".format(r=table))\n",
    "                cursor.execute(select_join)\n",
    "                # Using the cursor as iterator\n",
    "                i+=1\n",
    "                # 不喜歡用fetchone，fetchmany，fetchall直接取cursor\n",
    "                for rows in cursor:\n",
    "                    RDBque.write(Tablename[i-1][1:]+u',')\n",
    "                    for element in range(len(rows)):\n",
    "                        #  如果element是最後一個元素，就寫入換行\n",
    "                        if element == len(rows)-1:\n",
    "                            RDBque.write(format(rows[element]).decode('utf-8')+u'\\n')\n",
    "                        elif rows[element] == \"\"\"成功路(文德路-金龍路)-成功路3段152號前路燈桿(已附掛市警局CCTV)\"\"\":\n",
    "                            RDBque.write(u'成功路3段152號前路燈桿'+u',')\n",
    "                        else:\n",
    "                            RDBque.write(format(rows[element]).decode('utf-8')+u',')\n",
    "        \n",
    "    except Error as e:\n",
    "        print(e)\n",
    "    finally:\n",
    "        cursor.close()\n",
    "        conn.close()"
   ]
  },
  {
   "cell_type": "code",
   "execution_count": 29,
   "metadata": {
    "collapsed": false
   },
   "outputs": [],
   "source": [
    "query()"
   ]
  },
  {
   "cell_type": "code",
   "execution_count": null,
   "metadata": {
    "collapsed": true
   },
   "outputs": [],
   "source": []
  },
  {
   "cell_type": "code",
   "execution_count": null,
   "metadata": {
    "collapsed": true
   },
   "outputs": [],
   "source": []
  },
  {
   "cell_type": "code",
   "execution_count": null,
   "metadata": {
    "collapsed": true
   },
   "outputs": [],
   "source": []
  }
 ],
 "metadata": {
  "anaconda-cloud": {},
  "kernelspec": {
   "display_name": "Python [Root]",
   "language": "python",
   "name": "Python [Root]"
  },
  "language_info": {
   "codemirror_mode": {
    "name": "ipython",
    "version": 2
   },
   "file_extension": ".py",
   "mimetype": "text/x-python",
   "name": "python",
   "nbconvert_exporter": "python",
   "pygments_lexer": "ipython2",
   "version": "2.7.12"
  }
 },
 "nbformat": 4,
 "nbformat_minor": 0
}
