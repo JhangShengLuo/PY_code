{
 "cells": [
  {
   "cell_type": "markdown",
   "metadata": {
    "collapsed": false
   },
   "source": [
    "# 需要把程式簡化，這是新增的檔案一次寫入MySQL。"
   ]
  },
  {
   "cell_type": "code",
   "execution_count": null,
   "metadata": {
    "collapsed": true
   },
   "outputs": [],
   "source": []
  },
  {
   "cell_type": "code",
   "execution_count": null,
   "metadata": {
    "collapsed": true
   },
   "outputs": [],
   "source": []
  },
  {
   "cell_type": "code",
   "execution_count": 197,
   "metadata": {
    "collapsed": false
   },
   "outputs": [],
   "source": [
    "import csv,io,os,re\n",
    "import sys\n",
    "#載入sys是因為要重啟sys預設編碼改成'utf-8'，下面的default等等是因為reload sys的話print在jupyter會印不出來，再重新設定\n",
    "default_stdout = sys.stdout\n",
    "default_stderr = sys.stderr\n",
    "reload(sys)\n",
    "sys.stdout = default_stdout\n",
    "sys.stderr = default_stderr\n",
    "sys.setdefaultencoding('utf-8')\n",
    "\n",
    "\n",
    "import mysql.connector\n",
    "\n",
    "cnx = mysql.connector.connect(user='root',password='apple', database='insert')\n",
    "cursor = cnx.cursor()\n",
    "\n",
    "files=[]\n",
    "for f in os.listdir('./clean/'):\n",
    "    if os.path.isfile('./clean/'+f):\n",
    "        files.append(f)\n",
    "replace2=[]\n",
    "for f in files:\n",
    "    if '.csv' in f:\n",
    "        #利用正規表達式，從檔名去找table名\n",
    "        match=re.findall('[A-Z0-9]+',f)\n",
    "        tablename=str(match[0])\n",
    "#         print tablename\n",
    "        with io.open('./clean/'+f,'r',encoding='utf-8') as rcsv:\n",
    "            content=[]\n",
    "            for line in rcsv:\n",
    "                content.append(line)\n",
    "            for element in content[1:]:\n",
    "                #不需要第一行標題 [1:]\n",
    "#                 print element.split(',')\n",
    "#                 print mytuple\n",
    "                mylist=[tablename,]#先用list再轉成tuple\n",
    "                for ele in element.split(','):\n",
    "#                     print str(ele)\n",
    "                    mylist.append(str(ele).strip())\n",
    "                mytuple = tuple(mylist)#轉成tuple\n",
    "#                 print mytuple\n",
    "                replace2.append(mytuple) \n",
    "# print replace2[0][2]\n",
    "           \n",
    "#這裡要注意的是'{r[1]}','{r[2]}'...等等到r5要加引號是因為在query時就要加''號，因為'00:00:00'沒加''會出錯！！！\n",
    "for ele in replace2:         \n",
    "    query = ('''insert into {r[0]} (EQIPnumber,location,direct,YMD,hour,laneNumber,addTotal,15Total,\n",
    "truckflow,carflow,scooterflow,avgspeed,avgPercent,avgCarSpace)values\n",
    "('{r[1]}','{r[2]}','{r[3]}','{r[4]}','{r[5]}',{r[6]},{r[7]},{r[8]},{r[9]},{r[10]},{r[11]},{r[12]},{r[13]},{r[14]})\n",
    ";'''.format(r=ele))\n",
    "#     print query\n",
    "    cursor.execute(query)\n",
    "    cnx.commit()\n",
    "cursor.close()\n",
    "\n",
    "cnx.close()\n"
   ]
  },
  {
   "cell_type": "code",
   "execution_count": null,
   "metadata": {
    "collapsed": true
   },
   "outputs": [],
   "source": []
  },
  {
   "cell_type": "code",
   "execution_count": null,
   "metadata": {
    "collapsed": true
   },
   "outputs": [],
   "source": []
  },
  {
   "cell_type": "code",
   "execution_count": null,
   "metadata": {
    "collapsed": true
   },
   "outputs": [],
   "source": []
  },
  {
   "cell_type": "code",
   "execution_count": null,
   "metadata": {
    "collapsed": true
   },
   "outputs": [],
   "source": []
  },
  {
   "cell_type": "code",
   "execution_count": null,
   "metadata": {
    "collapsed": true
   },
   "outputs": [],
   "source": []
  }
 ],
 "metadata": {
  "anaconda-cloud": {},
  "kernelspec": {
   "display_name": "Python [Root]",
   "language": "python",
   "name": "Python [Root]"
  },
  "language_info": {
   "codemirror_mode": {
    "name": "ipython",
    "version": 2
   },
   "file_extension": ".py",
   "mimetype": "text/x-python",
   "name": "python",
   "nbconvert_exporter": "python",
   "pygments_lexer": "ipython2",
   "version": "2.7.12"
  }
 },
 "nbformat": 4,
 "nbformat_minor": 0
}
