{
 "cells": [
  {
   "cell_type": "markdown",
   "metadata": {},
   "source": [
    "# 程式碼簡化！！！！！！！！！！！把join的表輸出"
   ]
  },
  {
   "cell_type": "code",
   "execution_count": null,
   "metadata": {
    "collapsed": true
   },
   "outputs": [],
   "source": []
  },
  {
   "cell_type": "code",
   "execution_count": null,
   "metadata": {
    "collapsed": true
   },
   "outputs": [],
   "source": []
  },
  {
   "cell_type": "code",
   "execution_count": 3,
   "metadata": {
    "collapsed": false
   },
   "outputs": [],
   "source": [
    "import sys\n",
    "default_stdout = sys.stdout\n",
    "default_stderr = sys.stderr\n",
    "reload(sys)\n",
    "sys.stdout = default_stdout\n",
    "sys.stderr = default_stderr\n",
    "sys.setdefaultencoding('utf-8')\n",
    "\n",
    "import datetime\n",
    "import csv,io\n",
    "import mysql.connector\n",
    "\n",
    "cnx = mysql.connector.connect(user='root',password='apple', database='infidb')\n",
    "cursor = cnx.cursor()\n",
    "\n",
    "# query = (\"select * from totala;\") #整個TABLE全選\n",
    "GNquery = (\"\"\"select ND18.direct,ND18.YMD,ND18.hour,ND18.15Total ,\n",
    "rain.rain,rain.WD from ND18 join rain on ND18.YMD=rain.YMD;\"\"\")\n",
    "\n",
    "GSquery = (\"\"\"select SD18.direct,SD18.YMD,SD18.hour,SD18.15Total\n",
    ",rain.rain,rain.WD from SD18 join rain on SD18.YMD=rain.YMD;\"\"\")\n",
    "\n",
    "\n",
    "query=[GNquery,GSquery]\n",
    "\n",
    "\n",
    "# Using the cursor as iterator\n",
    "with io.open('舊宗.csv','w',encoding='utf-8')as RDBque:\n",
    "    RDBque.write(\"方向,日期,時間,當量總和,雨量,星期\"+u'\\n')\n",
    "    for ele in query:\n",
    "        cursor.execute(ele)\n",
    "        for rows in cursor:\n",
    "            for ele in range(len(rows)):\n",
    "                if ele == len(rows)-1:\n",
    "                    RDBque.write(format(rows[ele]).decode('utf-8')+u'\\n')\n",
    "                else:\n",
    "                    RDBque.write(format(rows[ele]).decode('utf-8')+u',')\n",
    "cursor.close()\n",
    "cnx.close()\n"
   ]
  },
  {
   "cell_type": "code",
   "execution_count": null,
   "metadata": {
    "collapsed": true
   },
   "outputs": [],
   "source": []
  },
  {
   "cell_type": "code",
   "execution_count": null,
   "metadata": {
    "collapsed": true
   },
   "outputs": [],
   "source": []
  },
  {
   "cell_type": "code",
   "execution_count": 6,
   "metadata": {
    "collapsed": false
   },
   "outputs": [],
   "source": [
    "import sys\n",
    "default_stdout = sys.stdout\n",
    "default_stderr = sys.stderr\n",
    "reload(sys)\n",
    "sys.stdout = default_stdout\n",
    "sys.stderr = default_stderr\n",
    "sys.setdefaultencoding('utf-8')\n",
    "\n",
    "import datetime\n",
    "import csv,io\n",
    "import mysql.connector\n",
    "\n",
    "cnx = mysql.connector.connect(user='root',password='apple', database='infidb')\n",
    "cursor = cnx.cursor()\n",
    "\n",
    "# query = (\"select * from totala;\") #整個TABLE全選\n",
    "TNquery = (\"\"\"select ND21.direct,ND21.YMD,ND21.hour,(ND21.15Total + ND13.15Total\n",
    "+ ND14.15Total + ND15.15Total + ND22.15Total + ND23.15Total) 'total' ,rain.rain,rain.WD from ND21 join ND13 on\n",
    "(ND21.YMD=ND13.YMD and ND21.hour=ND13.hour) join ND14 on (ND21.YMD=ND14.YMD and ND21.hour=ND14.hour)join ND15 on\n",
    "(ND21.YMD=ND15.YMD and ND21.hour=ND15.hour)join ND22 on (ND21.YMD=ND22.YMD and ND21.hour=ND22.hour)join ND23 on \n",
    "(ND21.YMD=ND23.YMD and ND21.hour=ND23.hour)join rain on ND21.YMD=rain.YMD;\"\"\")\n",
    "\n",
    "TSquery = (\"\"\"select SD13.direct,SD13.YMD,SD13.hour,(SD13.15Total + SD14.15Total + SD15.15Total + SD22.15Total\n",
    "+ SD23.15Total) 'total' ,rain.rain,rain.WD from SD13 join SD14 on (SD13.YMD=SD14.YMD and SD13.hour=SD14.hour)join \n",
    "SD15 on (SD13.YMD=SD15.YMD and SD13.hour=SD15.hour)join SD22 on (SD13.YMD=SD22.YMD and SD13.hour=SD22.hour)join SD23\n",
    "on (SD13.YMD=SD23.YMD and SD13.hour=SD23.hour)join rain on SD13.YMD=rain.YMD;\"\"\")\n",
    "\n",
    "\n",
    "query=[TNquery,TSquery]\n",
    "\n",
    "\n",
    "# Using the cursor as iterator\n",
    "with io.open('堤頂.csv','w',encoding='utf-8')as RDBque:\n",
    "    RDBque.write(\"方向,日期,時間,當量總和,雨量,星期\"+u'\\n')\n",
    "    for ele in query:\n",
    "        cursor.execute(ele)\n",
    "        for rows in cursor:\n",
    "            for ele in range(len(rows)):\n",
    "                if ele == len(rows)-1:\n",
    "                    RDBque.write(format(rows[ele]).decode('utf-8')+u'\\n')\n",
    "                else:\n",
    "                    RDBque.write(format(rows[ele]).decode('utf-8')+u',')\n",
    "cursor.close()\n",
    "cnx.close()\n",
    "\n",
    "\n"
   ]
  },
  {
   "cell_type": "code",
   "execution_count": null,
   "metadata": {
    "collapsed": true
   },
   "outputs": [],
   "source": []
  },
  {
   "cell_type": "code",
   "execution_count": 7,
   "metadata": {
    "collapsed": true
   },
   "outputs": [],
   "source": [
    "import sys\n",
    "default_stdout = sys.stdout\n",
    "default_stderr = sys.stderr\n",
    "reload(sys)\n",
    "sys.stdout = default_stdout\n",
    "sys.stderr = default_stderr\n",
    "sys.setdefaultencoding('utf-8')\n",
    "\n",
    "import datetime\n",
    "import csv,io\n",
    "import mysql.connector\n",
    "\n",
    "cnx = mysql.connector.connect(user='root',password='apple', database='infidb')\n",
    "cursor = cnx.cursor()\n",
    "\n",
    "# query = (\"select * from totala;\") #整個TABLE全選\n",
    "MEquery = (\"\"\"select ED28.direct,ED28.YMD,ED28.hour,(ED28.15Total + ED29.15Total + ED30.15Total) \n",
    "'total' ,rain.rain,rain.WD from ED28 join ED29 on (ED28.YMD=ED29.YMD and ED28.hour=ED29.hour) \n",
    "join ED30 on (ED28.YMD=ED30.YMD and ED28.hour=ED30.hour)join rain on ED28.YMD=rain.YMD;\"\"\")\n",
    "\n",
    "MWquery = (\"\"\"select WD28.direct,WD28.YMD,WD28.hour,(WD28.15Total + WD29.15Total + WD30.15Total) \n",
    "'total' ,rain.rain,rain.WD from WD28 join WD29 on (WD28.YMD=WD29.YMD and WD28.hour=WD29.hour) \n",
    "join WD30 on (WD28.YMD=WD30.YMD and WD28.hour=WD30.hour)join rain on WD28.YMD=rain.YMD;\"\"\")\n",
    "\n",
    "\n",
    "query=[MEquery,MWquery]\n",
    "\n",
    "\n",
    "# Using the cursor as iterator\n",
    "with io.open('民權.csv','w',encoding='utf-8')as RDBque:\n",
    "    RDBque.write(\"方向,日期,時間,當量總和,雨量,星期\"+u'\\n')\n",
    "    for ele in query:\n",
    "        cursor.execute(ele)\n",
    "        for rows in cursor:\n",
    "            for ele in range(len(rows)):\n",
    "                if ele == len(rows)-1:\n",
    "                    RDBque.write(format(rows[ele]).decode('utf-8')+u'\\n')\n",
    "                else:\n",
    "                    RDBque.write(format(rows[ele]).decode('utf-8')+u',')\n",
    "cursor.close()\n",
    "cnx.close()\n",
    "\n",
    "\n"
   ]
  },
  {
   "cell_type": "code",
   "execution_count": null,
   "metadata": {
    "collapsed": true
   },
   "outputs": [],
   "source": []
  }
 ],
 "metadata": {
  "anaconda-cloud": {},
  "kernelspec": {
   "display_name": "Python [Root]",
   "language": "python",
   "name": "Python [Root]"
  },
  "language_info": {
   "codemirror_mode": {
    "name": "ipython",
    "version": 2
   },
   "file_extension": ".py",
   "mimetype": "text/x-python",
   "name": "python",
   "nbconvert_exporter": "python",
   "pygments_lexer": "ipython2",
   "version": "2.7.12"
  }
 },
 "nbformat": 4,
 "nbformat_minor": 0
}
