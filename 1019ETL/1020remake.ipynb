{
 "cells": [
  {
   "cell_type": "markdown",
   "metadata": {},
   "source": [
    "# 程式碼簡化！！！！！！！！！！！把join的表輸出"
   ]
  },
  {
   "cell_type": "code",
   "execution_count": null,
   "metadata": {
    "collapsed": true
   },
   "outputs": [],
   "source": []
  },
  {
   "cell_type": "code",
   "execution_count": null,
   "metadata": {
    "collapsed": true
   },
   "outputs": [],
   "source": []
  },
  {
   "cell_type": "code",
   "execution_count": 3,
   "metadata": {
    "collapsed": false
   },
   "outputs": [],
   "source": [
    "import sys\n",
    "default_stdout = sys.stdout\n",
    "default_stderr = sys.stderr\n",
    "reload(sys)\n",
    "sys.stdout = default_stdout\n",
    "sys.stderr = default_stderr\n",
    "sys.setdefaultencoding('utf-8')\n",
    "\n",
    "\n",
    "import csv,io\n",
    "import mysql.connector\n",
    "\n",
    "cnx = mysql.connector.connect(user='root',password='apple', database='1021test')\n",
    "cursor = cnx.cursor()\n",
    "\n",
    "# query = (\"select * from totala;\") #整個TABLE全選\n",
    "GNquery = (\"\"\"select NVQRTE00.direct,NVQRTE00.YMD,NVQRTE00.hour,NVQRTE00.15Total \n",
    ",rain.rain,rain.WD from NVQRTE00 join rain on NVQRTE00.YMD=rain.YMD;\"\"\")\n",
    "\n",
    "GSquery = (\"\"\"select SVQRTE00.direct,SVQRTE00.YMD,SVQRTE00.hour,SVQRTE00.15Total \n",
    ",rain.rain,rain.WD from SVQRTE00 join rain on SVQRTE00.YMD=rain.YMD;\"\"\")\n",
    "\n",
    "\n",
    "query=[GNquery,GSquery]\n",
    "\n",
    "\n",
    "# Using the cursor as iterator\n",
    "with io.open('舊宗.csv','w',encoding='utf-8')as RDBque:\n",
    "    RDBque.write(\"方向,日期,時間,當量總和,雨量,星期\"+u'\\n')\n",
    "    for ele in query:\n",
    "        cursor.execute(ele)\n",
    "        for rows in cursor:\n",
    "            for ele in range(len(rows)):\n",
    "                if ele == len(rows)-1:\n",
    "                    RDBque.write(format(rows[ele]).decode('utf-8')+u'\\n')\n",
    "                else:\n",
    "                    RDBque.write(format(rows[ele]).decode('utf-8')+u',')\n",
    "cursor.close()\n",
    "cnx.close()\n"
   ]
  },
  {
   "cell_type": "code",
   "execution_count": null,
   "metadata": {
    "collapsed": true
   },
   "outputs": [],
   "source": []
  },
  {
   "cell_type": "code",
   "execution_count": null,
   "metadata": {
    "collapsed": true
   },
   "outputs": [],
   "source": []
  },
  {
   "cell_type": "code",
   "execution_count": 6,
   "metadata": {
    "collapsed": false
   },
   "outputs": [],
   "source": [
    "import sys\n",
    "default_stdout = sys.stdout\n",
    "default_stderr = sys.stderr\n",
    "reload(sys)\n",
    "sys.stdout = default_stdout\n",
    "sys.stderr = default_stderr\n",
    "sys.setdefaultencoding('utf-8')\n",
    "\n",
    "\n",
    "import csv,io\n",
    "import mysql.connector\n",
    "\n",
    "cnx = mysql.connector.connect(user='root',password='apple', database='1021test')\n",
    "cursor = cnx.cursor()\n",
    "\n",
    "# query = (\"select * from totala;\") #整個TABLE全選\n",
    "TNquery = (\"\"\"select NVRPSV70.direct,NVRPSV70.YMD,NVRPSV70.hour,(NVRPSV70.15Total + NVTXQL00.15Total\n",
    "+ NVT5QV00.15Total + NVSPRA40.15Total + NVPMSV40.15Total + NVRPSV00.15Total)\n",
    "'total' ,rain.rain,rain.WD from NVRPSV70 join NVTXQL00 on (NVRPSV70.YMD=NVTXQL00.YMD and NVRPSV70.hour=NVTXQL00.hour)\n",
    "join NVT5QV00 on (NVRPSV70.YMD=NVT5QV00.YMD and NVRPSV70.hour=NVT5QV00.hour)join NVSPRA40 on \n",
    "(NVRPSV70.YMD=NVSPRA40.YMD and NVRPSV70.hour=NVSPRA40.hour)join NVPMSV40 on \n",
    "(NVRPSV70.YMD=NVPMSV40.YMD and NVRPSV70.hour=NVPMSV40.hour)join NVRPSV00 on \n",
    "(NVRPSV70.YMD=NVRPSV00.YMD and NVRPSV70.hour=NVRPSV00.hour)join rain on NVRPSV70.YMD=rain.YMD;\"\"\")\n",
    "\n",
    "TSquery = (\"\"\"select SVTXQL00.direct,SVTXQL00.YMD,SVTXQL00.hour,(SVTXQL00.15Total + SVT5QV00.15Total\n",
    "+ SVSPRA40.15Total + SVPMSV40.15Total + SVRPSV00.15Total) 'total' ,rain.rain,rain.WD from SVTXQL00 join SVT5QV00 on \n",
    "(SVTXQL00.YMD=SVT5QV00.YMD and SVTXQL00.hour=SVT5QV00.hour)join SVSPRA40 on \n",
    "(SVTXQL00.YMD=SVSPRA40.YMD and SVTXQL00.hour=SVSPRA40.hour)join SVPMSV40 on \n",
    "(SVTXQL00.YMD=SVPMSV40.YMD and SVTXQL00.hour=SVPMSV40.hour)join SVRPSV00 on \n",
    "(SVTXQL00.YMD=SVRPSV00.YMD and SVTXQL00.hour=SVRPSV00.hour)join rain on SVTXQL00.YMD=rain.YMD;\"\"\")\n",
    "\n",
    "\n",
    "query=[TNquery,TSquery]\n",
    "\n",
    "\n",
    "# Using the cursor as iterator\n",
    "with io.open('堤頂.csv','w',encoding='utf-8')as RDBque:\n",
    "    RDBque.write(\"方向,日期,時間,當量總和,雨量,星期\"+u'\\n')\n",
    "    for ele in query:\n",
    "        cursor.execute(ele)\n",
    "        for rows in cursor:\n",
    "            for ele in range(len(rows)):\n",
    "                if ele == len(rows)-1:\n",
    "                    RDBque.write(format(rows[ele]).decode('utf-8')+u'\\n')\n",
    "                else:\n",
    "                    RDBque.write(format(rows[ele]).decode('utf-8')+u',')\n",
    "cursor.close()\n",
    "cnx.close()\n",
    "\n",
    "\n"
   ]
  },
  {
   "cell_type": "code",
   "execution_count": null,
   "metadata": {
    "collapsed": true
   },
   "outputs": [],
   "source": []
  },
  {
   "cell_type": "code",
   "execution_count": 7,
   "metadata": {
    "collapsed": true
   },
   "outputs": [],
   "source": [
    "import sys\n",
    "default_stdout = sys.stdout\n",
    "default_stderr = sys.stderr\n",
    "reload(sys)\n",
    "sys.stdout = default_stdout\n",
    "sys.stderr = default_stderr\n",
    "sys.setdefaultencoding('utf-8')\n",
    "\n",
    "\n",
    "import csv,io\n",
    "import mysql.connector\n",
    "\n",
    "cnx = mysql.connector.connect(user='root',password='apple', database='1021test')\n",
    "cursor = cnx.cursor()\n",
    "\n",
    "# query = (\"select * from totala;\") #整個TABLE全選\n",
    "MEquery = (\"\"\"select EVQEUU60.direct,EVQEUU60.YMD,EVQEUU60.hour,(EVQEUU60.15Total + EVQKWL60.15Total + \n",
    "EVQKWL61.15Total) 'total' ,rain.rain,rain.WD from EVQEUU60 join EVQKWL60 on (EVQEUU60.YMD=EVQKWL60.YMD and \n",
    "EVQEUU60.hour=EVQKWL60.hour) join EVQKWL61 on (EVQEUU60.YMD=EVQKWL61.YMD and EVQEUU60.hour=EVQKWL61.hour)\n",
    "join rain on EVQEUU60.YMD=rain.YMD;\"\"\")\n",
    "\n",
    "MWquery = (\"\"\"select WVQEUU60.direct,WVQEUU60.YMD,WVQEUU60.hour,(WVQEUU60.15Total + WVQKWL60.15Total\n",
    "+ WVQKWL61.15Total) 'total' ,rain.rain,rain.WD from WVQEUU60 join WVQKWL60 on (WVQEUU60.YMD=WVQKWL60.YMD \n",
    "and WVQEUU60.hour=WVQKWL60.hour) join WVQKWL61 on (WVQEUU60.YMD=WVQKWL61.YMD and WVQEUU60.hour=WVQKWL61.hour)\n",
    "join rain on WVQEUU60.YMD=rain.YMD;\"\"\")\n",
    "\n",
    "\n",
    "query=[MEquery,MWquery]\n",
    "\n",
    "\n",
    "# Using the cursor as iterator\n",
    "with io.open('民權.csv','w',encoding='utf-8')as RDBque:\n",
    "    RDBque.write(\"方向,日期,時間,當量總和,雨量,星期\"+u'\\n')\n",
    "    for ele in query:\n",
    "        cursor.execute(ele)\n",
    "        for rows in cursor:\n",
    "            for ele in range(len(rows)):\n",
    "                if ele == len(rows)-1:\n",
    "                    RDBque.write(format(rows[ele]).decode('utf-8')+u'\\n')\n",
    "                else:\n",
    "                    RDBque.write(format(rows[ele]).decode('utf-8')+u',')\n",
    "cursor.close()\n",
    "cnx.close()\n",
    "\n",
    "\n"
   ]
  },
  {
   "cell_type": "code",
   "execution_count": null,
   "metadata": {
    "collapsed": true
   },
   "outputs": [],
   "source": [
    "\n",
    "\n"
   ]
  },
  {
   "cell_type": "code",
   "execution_count": null,
   "metadata": {
    "collapsed": true
   },
   "outputs": [],
   "source": []
  },
  {
   "cell_type": "code",
   "execution_count": null,
   "metadata": {
    "collapsed": true
   },
   "outputs": [],
   "source": []
  },
  {
   "cell_type": "code",
   "execution_count": null,
   "metadata": {
    "collapsed": true
   },
   "outputs": [],
   "source": []
  }
 ],
 "metadata": {
  "anaconda-cloud": {},
  "kernelspec": {
   "display_name": "Python [Root]",
   "language": "python",
   "name": "Python [Root]"
  },
  "language_info": {
   "codemirror_mode": {
    "name": "ipython",
    "version": 2
   },
   "file_extension": ".py",
   "mimetype": "text/x-python",
   "name": "python",
   "nbconvert_exporter": "python",
   "pygments_lexer": "ipython2",
   "version": "2.7.12"
  }
 },
 "nbformat": 4,
 "nbformat_minor": 0
}
