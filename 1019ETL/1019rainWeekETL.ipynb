{
 "cells": [
  {
   "cell_type": "code",
   "execution_count": 2,
   "metadata": {
    "collapsed": false
   },
   "outputs": [],
   "source": [
    "import datetime\n",
    "import time\n",
    "import csv,io,os\n",
    "\n",
    "if not os.path.exists('okay'):\n",
    "    os.makedirs('okay')\n",
    "\n",
    "    \n",
    "\n",
    "with io.open('rain.csv','r',encoding='utf-8') as rfile:\n",
    "    with io.open('okay/rain.csv','w',encoding='utf-8') as wfile:\n",
    "        wfile.write(u'YMD,rain,WD'+u'\\n')\n",
    "        for line in rfile:\n",
    "            YMD = line.split(',')[0]\n",
    "            ta=time.strptime(YMD,'%Y-%m-%d')\n",
    "            y, m, d= ta[0:3]\n",
    "            ta = datetime.datetime(y,m,d)\n",
    "            wfile.write(line.strip())\n",
    "            wfile.write(u','+str(ta.strftime('%a'))+u'\\n')\n",
    "#             print ta.isoweekday()\n",
    "    \n",
    "\n",
    "    "
   ]
  },
  {
   "cell_type": "code",
   "execution_count": 1,
   "metadata": {
    "collapsed": false
   },
   "outputs": [
    {
     "name": "stdout",
     "output_type": "stream",
     "text": [
      "<type 'time.struct_time'>\n",
      "time.struct_time(tm_year=2016, tm_mon=4, tm_mday=1, tm_hour=0, tm_min=0, tm_sec=0, tm_wday=4, tm_yday=92, tm_isdst=-1)\n",
      "Fri\n"
     ]
    }
   ],
   "source": [
    "# 字串日期轉成時間格式\n",
    "\n",
    "\n",
    "\n",
    "# import datetime\n",
    "# import time\n",
    "\n",
    "\n",
    "# tt=[u'2016-04-01',u'0']\n",
    "\n",
    "# ta=time.strptime(tt[0],'%Y-%m-%d')\n",
    "# print type(ta)\n",
    "\n",
    "\n",
    "# print ta\n",
    "\n",
    "# y, m, d =ta[0:3]\n",
    "\n",
    "# ta=datetime.datetime(y,m,d)\n",
    "\n",
    "# print ta.strftime('%a')"
   ]
  },
  {
   "cell_type": "code",
   "execution_count": null,
   "metadata": {
    "collapsed": true
   },
   "outputs": [],
   "source": []
  },
  {
   "cell_type": "code",
   "execution_count": null,
   "metadata": {
    "collapsed": true
   },
   "outputs": [],
   "source": []
  },
  {
   "cell_type": "code",
   "execution_count": null,
   "metadata": {
    "collapsed": true
   },
   "outputs": [],
   "source": []
  }
 ],
 "metadata": {
  "anaconda-cloud": {},
  "kernelspec": {
   "display_name": "Python [Root]",
   "language": "python",
   "name": "Python [Root]"
  },
  "language_info": {
   "codemirror_mode": {
    "name": "ipython",
    "version": 2
   },
   "file_extension": ".py",
   "mimetype": "text/x-python",
   "name": "python",
   "nbconvert_exporter": "python",
   "pygments_lexer": "ipython2",
   "version": "2.7.12"
  }
 },
 "nbformat": 4,
 "nbformat_minor": 0
}
