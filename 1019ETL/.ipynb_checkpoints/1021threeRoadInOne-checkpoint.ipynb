{
 "cells": [
  {
   "cell_type": "code",
   "execution_count": 6,
   "metadata": {
    "collapsed": false
   },
   "outputs": [],
   "source": [
    "import sys\n",
    "default_stdout = sys.stdout\n",
    "default_stderr = sys.stderr\n",
    "reload(sys)\n",
    "sys.stdout = default_stdout\n",
    "sys.stderr = default_stderr\n",
    "sys.setdefaultencoding('utf-8')\n",
    "\n",
    "\n",
    "import csv,io,os\n",
    "\n",
    "allappend=[]\n",
    "allappend.append(u'道路'+u','+'方向,日期,時間,當量總和,雨量,星期\\n')\n",
    "with io.open(\"堤頂.csv\",'r',encoding ='utf-8') as rfile:\n",
    "    temp = []\n",
    "    for line in rfile:\n",
    "        temp.append(line)\n",
    "    for ele in temp[1:]:\n",
    "        allappend.append(u'堤頂'+u','+ele)\n",
    "with io.open(\"民權.csv\",'r',encoding ='utf-8') as rfile:\n",
    "    temp = []\n",
    "    for line in rfile:\n",
    "        temp.append(line)\n",
    "    for ele in temp[1:]:\n",
    "        allappend.append(u'民權'+u','+ele)\n",
    "        \n",
    "with io.open(\"舊宗.csv\",'r',encoding ='utf-8') as rfile:\n",
    "    temp = []\n",
    "    for line in rfile:\n",
    "        temp.append(line)\n",
    "    for ele in temp[1:]:\n",
    "        allappend.append(u'舊宗'+u','+ele)\n",
    "        \n",
    "        \n",
    "with io.open('allappend.csv','w',encoding='utf-8')as wfile:\n",
    "    for ele in allappend:\n",
    "        wfile.write(ele)\n",
    "# for ele in allappend:\n",
    "#     print ele"
   ]
  },
  {
   "cell_type": "code",
   "execution_count": null,
   "metadata": {
    "collapsed": true
   },
   "outputs": [],
   "source": []
  },
  {
   "cell_type": "code",
   "execution_count": null,
   "metadata": {
    "collapsed": true
   },
   "outputs": [],
   "source": []
  }
 ],
 "metadata": {
  "anaconda-cloud": {},
  "kernelspec": {
   "display_name": "Python [Root]",
   "language": "python",
   "name": "Python [Root]"
  },
  "language_info": {
   "codemirror_mode": {
    "name": "ipython",
    "version": 2
   },
   "file_extension": ".py",
   "mimetype": "text/x-python",
   "name": "python",
   "nbconvert_exporter": "python",
   "pygments_lexer": "ipython2",
   "version": "2.7.12"
  }
 },
 "nbformat": 4,
 "nbformat_minor": 0
}
