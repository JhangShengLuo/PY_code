{
 "cells": [
  {
   "cell_type": "code",
   "execution_count": 52,
   "metadata": {
    "collapsed": false
   },
   "outputs": [],
   "source": [
    "import sys\n",
    "reload(sys)\n",
    "sys.setdefaultencoding('utf-8')\n",
    "\n",
    "import datetime\n",
    "import csv,io\n",
    "import mysql.connector\n",
    "\n",
    "\n",
    "\n",
    "cnx = mysql.connector.connect(user='root',password='apple', database='infiark')\n",
    "cursor = cnx.cursor()\n",
    "\n",
    "query = (\"\"\"select YMD, roadname, direct, timezone, sum(carvolume), WD, rain \n",
    "from total where(roadname='堤頂大道' and direct='往南' and timezone='下午尖峰')group by YMD,WD,rain;\"\"\")\n",
    "\n",
    "\n",
    "# Using the cursor as iterator\n",
    "cursor.execute(query)\n",
    "with io.open('result.csv','w',encoding='utf-8')as RDBque:\n",
    "    RDBque.write(\"date,roadname,diretion,timezone,carValume,weekday,rain\"+u'\\n')\n",
    "    for rows in cursor:\n",
    "        for ele in range(len(rows)):\n",
    "            if ele == len(rows)-1:\n",
    "                RDBque.write(format(rows[ele]).decode('utf-8')+u'\\n')\n",
    "            else:\n",
    "                RDBque.write(format(rows[ele]).decode('utf-8')+u',')\n",
    "            \n",
    "        \n",
    "#             print (ele)\n",
    "\n",
    "\n",
    "\n",
    "# Using a while loop\n",
    "# cursor.execute(query)\n",
    "# row = cursor.fetchone()\n",
    "# while row is not None:\n",
    "#     print(row)\n",
    "#     row = cursor.fetchone()\n",
    "\n",
    "\n",
    "\n",
    "\n",
    "cursor.close()\n",
    "cnx.close()\n"
   ]
  },
  {
   "cell_type": "code",
   "execution_count": 65,
   "metadata": {
    "collapsed": false
   },
   "outputs": [
    {
     "ename": "Error",
     "evalue": "('IM002', '[IM002] [unixODBC][Driver Manager]Data source name not found, and no default driver specified (0) (SQLDriverConnect)')",
     "output_type": "error",
     "traceback": [
      "\u001b[0;31m---------------------------------------------------------------------------\u001b[0m",
      "\u001b[0;31mError\u001b[0m                                     Traceback (most recent call last)",
      "\u001b[0;32m<ipython-input-65-5f8225569784>\u001b[0m in \u001b[0;36m<module>\u001b[0;34m()\u001b[0m\n\u001b[1;32m      4\u001b[0m \u001b[0;31m# cnxn = pyodbc.connect('DRIVER={MySQL};SERVER=localhost;DATABASE=infirk;UID=root;PWD=apple')\u001b[0m\u001b[0;34m\u001b[0m\u001b[0;34m\u001b[0m\u001b[0m\n\u001b[1;32m      5\u001b[0m \u001b[0;34m\u001b[0m\u001b[0m\n\u001b[0;32m----> 6\u001b[0;31m \u001b[0mcnxn\u001b[0m \u001b[0;34m=\u001b[0m \u001b[0mpyodbc\u001b[0m\u001b[0;34m.\u001b[0m\u001b[0mconnect\u001b[0m\u001b[0;34m(\u001b[0m\u001b[0;34m\"DSN=MySQL;UID=root;PWD=apple\"\u001b[0m\u001b[0;34m)\u001b[0m\u001b[0;34m\u001b[0m\u001b[0m\n\u001b[0m\u001b[1;32m      7\u001b[0m \u001b[0;34m\u001b[0m\u001b[0m\n\u001b[1;32m      8\u001b[0m \u001b[0mcursor\u001b[0m \u001b[0;34m=\u001b[0m \u001b[0mcnxn\u001b[0m\u001b[0;34m.\u001b[0m\u001b[0mcursor\u001b[0m\u001b[0;34m(\u001b[0m\u001b[0;34m)\u001b[0m\u001b[0;34m\u001b[0m\u001b[0m\n",
      "\u001b[0;31mError\u001b[0m: ('IM002', '[IM002] [unixODBC][Driver Manager]Data source name not found, and no default driver specified (0) (SQLDriverConnect)')"
     ]
    }
   ],
   "source": [
    "import pyodbc\n",
    "\n",
    "\n",
    "# cnxn = pyodbc.connect('DRIVER={MySQL};SERVER=localhost;DATABASE=infirk;UID=root;PWD=apple')\n",
    "\n",
    "cnxn = pyodbc.connect(\"DSN=MySQL;UID=root;PWD=apple\")\n",
    "\n",
    "cursor = cnxn.cursor()\n",
    "cursor.execute(\"\"\"select YMD, roadname, direct, timezone, sum(carvolume), WD, rain \n",
    "from total where(roadname='堤頂大道' and direct='往南' and timezone='下午尖峰')group by YMD,WD,rain;\"\"\")\n",
    "rows = cursor.fetchall()\n"
   ]
  },
  {
   "cell_type": "code",
   "execution_count": null,
   "metadata": {
    "collapsed": true
   },
   "outputs": [],
   "source": []
  },
  {
   "cell_type": "code",
   "execution_count": null,
   "metadata": {
    "collapsed": true
   },
   "outputs": [],
   "source": []
  }
 ],
 "metadata": {
  "kernelspec": {
   "display_name": "Python [Root]",
   "language": "python",
   "name": "Python [Root]"
  },
  "language_info": {
   "codemirror_mode": {
    "name": "ipython",
    "version": 2
   },
   "file_extension": ".py",
   "mimetype": "text/x-python",
   "name": "python",
   "nbconvert_exporter": "python",
   "pygments_lexer": "ipython2",
   "version": "2.7.12"
  }
 },
 "nbformat": 4,
 "nbformat_minor": 0
}
