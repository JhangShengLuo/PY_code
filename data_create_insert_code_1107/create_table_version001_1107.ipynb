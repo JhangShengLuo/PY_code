{
 "cells": [
  {
   "cell_type": "code",
   "execution_count": 5,
   "metadata": {
    "collapsed": false
   },
   "outputs": [
    {
     "name": "stdout",
     "output_type": "stream",
     "text": [
      "2016/11/09_18:42:28\n"
     ]
    }
   ],
   "source": [
    "# coding: utf-8\n",
    "\n",
    "import time\n",
    "import shutil\n",
    "import sys\n",
    "import io\n",
    "import os\n",
    "import csv\n",
    "import re\n",
    "import datetime\n",
    "import mysql.connector\n",
    "from  mysql.connector import MySQLConnection, Error\n",
    "\n",
    "# 這麼多defualt是因為如果不重新設定，在使用 reload函數時，print會被印在 terminal上。\n",
    "default_stdout = sys.stdout\n",
    "default_stderr = sys.stderr\n",
    "reload(sys)\n",
    "sys.stdout = default_stdout\n",
    "sys.stderr = default_stderr\n",
    "sys.setdefaultencoding('utf-8')\n",
    "\n",
    "cs = time.strftime('%Y/%m/%d_%H:%M:%S',time.localtime())\n",
    "print cs\n",
    "# 存粹看運算時間\n",
    "\n",
    "def ETL():\n",
    "    \"\"\"\n",
    "    把最原始得資料拿來做ETL，頭尾不用的去掉，加入新的欄位名稱。\n",
    "    \n",
    "    \"\"\"\n",
    "    try:\n",
    "        # create 'clean' folder  if not exist.\n",
    "        if not os.path.exists('/Users/Jackie/Desktop/data_create_insert_code_1107/clean'):\n",
    "            os.makedirs('/Users/Jackie/Desktop/data_create_insert_code_1107/clean')\n",
    "        # from infiark1/ pick only files to do the trick.\n",
    "        files=[]\n",
    "        for f in os.listdir('/Users/Jackie/Desktop/data_create_insert_code_1107/'):\n",
    "            if os.path.isfile('/Users/Jackie/Desktop/data_create_insert_code_1107/' + f):\n",
    "                files.append(f)\n",
    "        # chose only the csv files to ETL and rename it.\n",
    "        # tt=[]\n",
    "        for f in files:\n",
    "            if '.csv' in f:\n",
    "\n",
    "                with io.open('/Users/Jackie/Desktop/data_create_insert_code_1107/' + f, 'r', encoding='utf-8')as rfile:\n",
    "                    ff=[]\n",
    "                    for ele in rfile:\n",
    "                        ff.append(ele)\n",
    "                    # 檔案名字用VD的編號，從檔案內的第一欄抓出來\n",
    "                    fname = ff[2:-2][0].split(',')[0] \n",
    "                    with io.open('/Users/Jackie/Desktop/data_create_insert_code_1107/clean/' + \\\n",
    "                                 fname + '.csv', 'w', encoding='utf-8') as wfile:\n",
    "                        wfile.write(u'''EQIPnumber,location,direct,YMD,hour,laneNumber,\\\n",
    "                        addTotal,15Total,truckflow,carflow,scooterflow,avgspeed,avgPercent,avgCarSpace''' + u'\\n')\n",
    "                        # 去掉檔案裡上下不用的中文敘述，再把平均速度='-1'的值挑掉不要，最後是把原來檔案內的','跟'\\n'去掉。\n",
    "                        for ele in ff[2:-2]:\n",
    "                            if ele.split(',')[-4] == '-1.0':\n",
    "                                continue\n",
    "                            else:\n",
    "                                sf=[]\n",
    "                                for el in ele.split(','):\n",
    "                                    if ele.split(',')[3] == el:\n",
    "                                        sf.append(','.join((ele.split(',')[3]).split(' ')))\n",
    "                                    else:\n",
    "                                        sf.append(el)\n",
    "                                wfile.write(','.join(sf)[:-2] + '\\n')\n",
    "                 \n",
    "    except:\n",
    "        with open('/Users/Jackie/Desktop/data_create_insert_code_1107/ETL.txt','w') as here3:\n",
    "            here3.write(u'ETL exception'+u'\\n')\n",
    "            here3.write(str(sys.stderr)+u'\\n')\n",
    "            here3.write(str(sys.exc_info()[0])+u'\\n')\n",
    "            here3.write(str(sys.exc_info()[1])+u'\\n')\n",
    "            here3.write(str(sys.exc_info()[2])+u'\\n')\n",
    "        \n",
    "                            \n",
    "                            \n",
    "def direct_add():\n",
    "    \"\"\"\n",
    "    這個函數要做的只是把剛剛整理好的資料，\n",
    "    因為有些VD的紀錄裡有一種或兩種方向或是根本沒指定方向，\n",
    "    全部歸納成只有一種方向，並在檔案名稱上加入方向，\n",
    "    東西南北就是EWSN，未指定就是U。\n",
    "    \n",
    "    \"\"\"\n",
    "    try:\n",
    "        # create 'done' folder if not exist.\n",
    "        if not os.path.exists('/Users/Jackie/Desktop/data_create_insert_code_1107/done'):\n",
    "            os.makedirs('/Users/Jackie/Desktop/data_create_insert_code_1107/done')\n",
    "        # from 'clean' folder chose file that is csv.\n",
    "        files=[]\n",
    "        for f in os.listdir('/Users/Jackie/Desktop/data_create_insert_code_1107/clean/'):\n",
    "            if os.path.isfile('/Users/Jackie/Desktop/data_create_insert_code_1107/clean/'+f):\n",
    "                files.append(f)\n",
    "        for f in files:\n",
    "            if '.csv' in f:\n",
    "                # empty list to temp store data and seperate by direct\n",
    "                Ntemp=[]\n",
    "                Stemp=[]\n",
    "                Etemp=[]\n",
    "                Wtemp=[]\n",
    "                Utemp=[]\n",
    "                ff=[]\n",
    "                with io.open('/Users/Jackie/Desktop/data_create_insert_code_1107/clean/'+f,'r',encoding='utf-8')as rfile:\n",
    "                    for line in rfile:\n",
    "                        ff.append(line)\n",
    "                    for ele in ff[1:]:\n",
    "                        #  有些資料可能會寫成'往北''往南'或'向北''向南'，但是都一樣方向\n",
    "                        if (ele.split(',')[2] =='往北')or(ele.split(',')[2] =='向北')or(ele.split(',')[2] =='北'):\n",
    "                            Ntemp.append(ele)\n",
    "                        elif (ele.split(',')[2] =='往南')or(ele.split(',')[2] =='向南')or(ele.split(',')[2] =='南'):\n",
    "                            Stemp.append(ele)\n",
    "                        elif (ele.split(',')[2] =='往東')or(ele.split(',')[2] =='向東')or(ele.split(',')[2] =='東'):\n",
    "                            Etemp.append(ele)\n",
    "                        elif (ele.split(',')[2] =='往西')or(ele.split(',')[2] =='向西')or(ele.split(',')[2] =='西'):\n",
    "                            Wtemp.append(ele)\n",
    "                        elif (ele.split(',')[2] =='未指定')or(ele.split(',')[2] =='正向放置')\\\n",
    "                                                           or (ele.split(',')[2] =='反向放置'):\n",
    "                            Utemp.append(ele) \n",
    "                # 這裡的寫法是因為空list的bool值是false，有值的[]是true，以此去判斷。\n",
    "                if Ntemp:\n",
    "                    with io.open('/Users/Jackie/Desktop/data_create_insert_code_1107/done/'+'N'+f,'w',encoding='utf-8') as nfile:\n",
    "                        nfile.write(ff[0])\n",
    "                        for ele in Ntemp:\n",
    "                            nfile.write(ele)\n",
    "                if Stemp:\n",
    "                    with io.open('/Users/Jackie/Desktop/data_create_insert_code_1107/done/'+'S'+f,'w',encoding='utf-8') as sfile:\n",
    "                        sfile.write(ff[0])\n",
    "                        for ele in Stemp:\n",
    "                            sfile.write(ele)\n",
    "                if  Etemp:\n",
    "                    with io.open('/Users/Jackie/Desktop/data_create_insert_code_1107/done/'+'E'+f,'w',encoding='utf-8') as efile:\n",
    "                        efile.write(ff[0])\n",
    "                        for ele in Etemp:\n",
    "                            efile.write(ele)\n",
    "                if Wtemp:\n",
    "                    with io.open('/Users/Jackie/Desktop/data_create_insert_code_1107/done/'+'W'+f,'w',encoding='utf-8') as wfile:\n",
    "                        wfile.write(ff[0])\n",
    "                        for ele in Wtemp:\n",
    "                            wfile.write(ele)\n",
    "                if Utemp:\n",
    "                    with io.open('/Users/Jackie/Desktop/data_create_insert_code_1107/done/'+'U'+f,'w',encoding='utf-8') as ufile:\n",
    "                        ufile.write(ff[0])\n",
    "                        for ele in Utemp:\n",
    "                            ufile.write(ele)\n",
    "    except:\n",
    "        with open('/Users/Jackie/Desktop/data_create_insert_code_1107/direct_add.txt','w') as here3:\n",
    "            here3.write(u'direct_add exception'+u'\\n')\n",
    "            here3.write(str(sys.stderr)+u'\\n')\n",
    "            here3.write(str(sys.exc_info()[0])+u'\\n')\n",
    "            here3.write(str(sys.exc_info()[1])+u'\\n')\n",
    "            here3.write(str(sys.exc_info()[2])+u'\\n')\n",
    "        \n",
    "def insert_data():\n",
    "    \"\"\"\n",
    "    主要是使用連結資料庫的第三方套件mysql.connector，\n",
    "    以python去對資料庫做連結，在利用for loop把資料insert到正確的table下。\n",
    "    \n",
    "    \"\"\"\n",
    "    try:\n",
    "#     連結資料庫的第三方套件\n",
    "        cnx = mysql.connector.connect(user='root', password='apple', database='1108test')\n",
    "        cursor = cnx.cursor()\n",
    "        files = []\n",
    "        for f in os.listdir('/Users/Jackie/Desktop/data_create_insert_code_1107/done/'):\n",
    "            if os.path.isfile('/Users/Jackie/Desktop/data_create_insert_code_1107/done/' + f):\n",
    "                files.append(f)\n",
    "        replace2 = []\n",
    "        for f in files:\n",
    "            if '.csv' in f:\n",
    "                #利用正規表達式，從檔名去找table名\n",
    "                match = re.findall('[A-Z0-9]+', f)\n",
    "                tablename = str(match[0])\n",
    "                # 讀取要寫入的檔案\n",
    "                with io.open('/Users/Jackie/Desktop/data_create_insert_code_1107/done/' + f, 'r', encoding='utf-8') as rcsv:\n",
    "                    content = []\n",
    "                    for line in rcsv:\n",
    "                        content.append(line)\n",
    "                    # 不要欄位名稱，所以要先將內容放在一個list，在取資料時，直接放棄第一筆[1:]\n",
    "                    for element in content[1:]:\n",
    "                        #不需要第一行標題 [1:]\n",
    "                        #先用list再轉成tuple\n",
    "                        mylist=[tablename,]\n",
    "                        for ele in element.split(','):\n",
    "                            mylist.append(str(ele).strip())\n",
    "                        #轉成tuple\n",
    "                        mytuple = tuple(mylist)\n",
    "                        replace2.append(mytuple) \n",
    "        #這裡要注意的是'{r[1]}','{r[2]}'...等等到r5要加引號是因為在query時就要加''號，因為'00:00:00'沒加''會出錯！！！\n",
    "        for ele in replace2:         \n",
    "            query = ('''insert into {r[0]} (EQIPnumber,location,direct,YMD,hour,laneNumber,addTotal,15Total,\n",
    "        truckflow,carflow,scooterflow,avgspeed,avgPercent,avgCarSpace)values\n",
    "        ('{r[1]}','{r[2]}','{r[3]}','{r[4]}','{r[5]}',{r[6]},{r[7]},{r[8]},\n",
    "        {r[9]},{r[10]},{r[11]},{r[12]},{r[13]},{r[14]});'''.format(r=ele))\n",
    "            cursor.execute(query)\n",
    "            cnx.commit()\n",
    "        cursor.close()\n",
    "        cnx.close()\n",
    "    except:\n",
    "        with open('/Users/Jackie/Desktop/data_create_insert_code_1107/insert_data.txt','w') as here3:\n",
    "            here3.write(u'insert_data exception'+u'\\n')\n",
    "            here3.write(str(sys.stderr)+u'\\n')\n",
    "            here3.write(str(sys.exc_info()[0])+u'\\n')\n",
    "            here3.write(str(sys.exc_info()[1])+u'\\n')\n",
    "            here3.write(str(sys.exc_info()[2])+u'\\n')\n",
    "\n",
    "        \n",
    "    "
   ]
  },
  {
   "cell_type": "code",
   "execution_count": 6,
   "metadata": {
    "collapsed": false
   },
   "outputs": [],
   "source": [
    "def create_table():\n",
    "    try:\n",
    "        conn = mysql.connector.connect(host='localhost',\n",
    "                                       database='1108test',\n",
    "                                       user='root',\n",
    "                                       password='apple')\n",
    "        cursor = conn.cursor()\n",
    "        files = []\n",
    "        for f in os.listdir('/Users/Jackie/Desktop/data_create_insert_code_1107/done/'):\n",
    "            if os.path.isfile('/Users/Jackie/Desktop/data_create_insert_code_1107/done/' + f):\n",
    "                files.append(f)\n",
    "        replace2 = []\n",
    "        for f in files:\n",
    "            if '.csv' in f:\n",
    "                #利用正規表達式，從檔名去找table名\n",
    "                match = re.findall('[A-Z0-9]+', f)\n",
    "                tablename = str(match[0])\n",
    "                replace2.append(tablename)\n",
    "        for ele in replace2:         \n",
    "            query = ('''create table {r} (EQIPnumber varchar(255),location varchar(255),direct varchar(25),\n",
    "            YMD varchar(25),hour varchar(25),laneNumber int(2),addTotal double,15Total double,truckflow double,\n",
    "            carflow double,scooterflow double,avgspeed double,avgPercent double,avgCarSpace double);'''.format(r=ele))\n",
    "            cursor.execute(query)\n",
    "            conn.commit()\n",
    "    except Error as e:\n",
    "        print(e)\n",
    "        with open('/Users/Jackie/Desktop/data_create_insert_code_1107/create.txt','w') as here3:\n",
    "            here3.write(u'create exception'+u'\\n')\n",
    "            here3.write(str(sys.stderr)+u'\\n')\n",
    "            here3.write(str(sys.exc_info()[0])+u'\\n')\n",
    "            here3.write(str(sys.exc_info()[1])+u'\\n')\n",
    "            here3.write(str(sys.exc_info()[2])+u'\\n')\n",
    "    finally:\n",
    "        cursor.close()\n",
    "        conn.close()\n",
    "    "
   ]
  },
  {
   "cell_type": "code",
   "execution_count": null,
   "metadata": {
    "collapsed": true
   },
   "outputs": [],
   "source": []
  },
  {
   "cell_type": "code",
   "execution_count": 118,
   "metadata": {
    "collapsed": false
   },
   "outputs": [],
   "source": [
    "create_table()"
   ]
  },
  {
   "cell_type": "code",
   "execution_count": null,
   "metadata": {
    "collapsed": true
   },
   "outputs": [],
   "source": []
  },
  {
   "cell_type": "code",
   "execution_count": 7,
   "metadata": {
    "collapsed": false
   },
   "outputs": [],
   "source": [
    "ETL()\n",
    "direct_add()\n",
    "\n",
    "\n"
   ]
  },
  {
   "cell_type": "code",
   "execution_count": null,
   "metadata": {
    "collapsed": true
   },
   "outputs": [],
   "source": []
  },
  {
   "cell_type": "code",
   "execution_count": 119,
   "metadata": {
    "collapsed": false
   },
   "outputs": [],
   "source": [
    "insert_data()"
   ]
  },
  {
   "cell_type": "code",
   "execution_count": null,
   "metadata": {
    "collapsed": true
   },
   "outputs": [],
   "source": []
  },
  {
   "cell_type": "code",
   "execution_count": 120,
   "metadata": {
    "collapsed": false
   },
   "outputs": [
    {
     "name": "stdout",
     "output_type": "stream",
     "text": [
      "2016/11/08_13:53:21\n"
     ]
    }
   ],
   "source": [
    "cs = time.strftime('%Y/%m/%d_%H:%M:%S',time.localtime())\n",
    "print cs"
   ]
  },
  {
   "cell_type": "code",
   "execution_count": null,
   "metadata": {
    "collapsed": true
   },
   "outputs": [],
   "source": []
  },
  {
   "cell_type": "code",
   "execution_count": null,
   "metadata": {
    "collapsed": true
   },
   "outputs": [],
   "source": []
  }
 ],
 "metadata": {
  "anaconda-cloud": {},
  "kernelspec": {
   "display_name": "Python [Root]",
   "language": "python",
   "name": "Python [Root]"
  },
  "language_info": {
   "codemirror_mode": {
    "name": "ipython",
    "version": 2
   },
   "file_extension": ".py",
   "mimetype": "text/x-python",
   "name": "python",
   "nbconvert_exporter": "python",
   "pygments_lexer": "ipython2",
   "version": "2.7.12"
  }
 },
 "nbformat": 4,
 "nbformat_minor": 0
}
