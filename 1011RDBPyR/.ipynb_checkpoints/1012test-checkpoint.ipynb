{
 "cells": [
  {
   "cell_type": "code",
   "execution_count": 3,
   "metadata": {
    "collapsed": false
   },
   "outputs": [],
   "source": [
    "import sys\n",
    "reload(sys)\n",
    "sys.setdefaultencoding('utf-8')\n",
    "\n",
    "import datetime\n",
    "import csv,io\n",
    "import mysql.connector\n",
    "\n",
    "\n",
    "\n",
    "cnx = mysql.connector.connect(user='root',password='apple', database='infiark')\n",
    "cursor = cnx.cursor()\n",
    "\n",
    "# query = (\"select * from totala;\") #整個TABLE全選\n",
    "query = (\"\"\"select YMD, roadname, direct, timezone, sum(carvolume) volume, Weekday, rain from totala\n",
    "where(roadname='堤頂大道' and direct='往南' and timezone='下午尖峰')group by YMD,Weekday,rain;\"\"\") \n",
    "\n",
    "\n",
    "# Using the cursor as iterator\n",
    "cursor.execute(query)\n",
    "with io.open('resultSA.csv','w',encoding='utf-8')as RDBque:\n",
    "#     整個table全選的話要寫這些欄位\n",
    "#     RDBque.write(\"date,road,roadname,roadvalue,roadblock,diretion,timezone,carValume,weekday,rain\"+u'\\n')\n",
    "    RDBque.write(\"YMD,roadname,diretion,timezone,carValume,weekday,rain\"+u'\\n')\n",
    "    for rows in cursor:\n",
    "        for ele in range(len(rows)):\n",
    "            if ele == len(rows)-1:\n",
    "                RDBque.write(format(rows[ele]).decode('utf-8')+u'\\n')\n",
    "            else:\n",
    "                RDBque.write(format(rows[ele]).decode('utf-8')+u',')\n",
    "            \n",
    "        \n",
    "#             print (ele)\n",
    "\n",
    "\n",
    "\n",
    "# Using a while loop\n",
    "# cursor.execute(query)\n",
    "# row = cursor.fetchone()\n",
    "# while row is not None:\n",
    "#     print(row)\n",
    "#     row = cursor.fetchone()\n",
    "\n",
    "\n",
    "\n",
    "\n",
    "cursor.close()\n",
    "cnx.close()\n"
   ]
  },
  {
   "cell_type": "code",
   "execution_count": 9,
   "metadata": {
    "collapsed": true
   },
   "outputs": [],
   "source": [
    "def RPy():\n",
    "    import rpy2.robjects as robjects\n",
    "    from rpy2.robjects.packages import importr\n",
    "\n",
    "    rstring=\"\"\"\n",
    "        function(){\n",
    "            setwd(\".\")\n",
    "            neihu<- read.table(\"resultSA.csv\", header = TRUE, sep = \",\")\n",
    "            attach(neihu)\n",
    "            jpeg(file=\"NeiHuSA.jpeg\")\n",
    "            model=lm(carValume~weekday)\n",
    "            summary(model)\n",
    "            yf=predict(model)\n",
    "            plot(carValume,type = \"l\", col= 4,xaxt=\"n\",main=\"Result\",xlab=\"blue=actuality red=forecast\",ylab=\"equivalent\",sub=\"105.04.11~105.09.18\")\n",
    "            lines(yf, col= 2)\n",
    "            detach(neihu)\n",
    "            dev.off()\n",
    "        }\n",
    "    \"\"\"\n",
    "\n",
    "    rfunc= robjects.r(rstring)\n",
    "    rfunc()\n",
    "\n"
   ]
  },
  {
   "cell_type": "code",
   "execution_count": 10,
   "metadata": {
    "collapsed": false
   },
   "outputs": [],
   "source": [
    "RPy()"
   ]
  },
  {
   "cell_type": "code",
   "execution_count": null,
   "metadata": {
    "collapsed": true
   },
   "outputs": [],
   "source": []
  }
 ],
 "metadata": {
  "anaconda-cloud": {},
  "kernelspec": {
   "display_name": "Python [Root]",
   "language": "python",
   "name": "Python [Root]"
  },
  "language_info": {
   "codemirror_mode": {
    "name": "ipython",
    "version": 2
   },
   "file_extension": ".py",
   "mimetype": "text/x-python",
   "name": "python",
   "nbconvert_exporter": "python",
   "pygments_lexer": "ipython2",
   "version": "2.7.12"
  }
 },
 "nbformat": 4,
 "nbformat_minor": 0
}
