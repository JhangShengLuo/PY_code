{
 "cells": [
  {
   "cell_type": "code",
   "execution_count": 34,
   "metadata": {
    "collapsed": false
   },
   "outputs": [],
   "source": [
    "# coding: utf-8\n",
    "\n",
    "import time\n",
    "import shutil\n",
    "import sys\n",
    "import io\n",
    "import os\n",
    "import csv\n",
    "import re\n",
    "import datetime\n",
    "import mysql.connector\n",
    "from  mysql.connector import MySQLConnection, Error\n",
    "\n",
    "# 這麼多defualt是因為如果不重新設定，在使用 reload函數時，print會被印在 terminal上。\n",
    "default_stdout = sys.stdout\n",
    "default_stderr = sys.stderr\n",
    "reload(sys)\n",
    "sys.stdout = default_stdout\n",
    "sys.stderr = default_stderr\n",
    "sys.setdefaultencoding('utf-8')\n",
    "\n",
    "\n",
    "# create 'clean' folder  if not exist.\n",
    "if not os.path.exists('/Users/Jackie/Desktop/ETL_2016_1117/clean'):\n",
    "    os.makedirs('/Users/Jackie/Desktop/ETL_2016_1117/clean')\n",
    "# from infiark1/ pick only files to do the trick.\n",
    "fileslist=[]\n",
    "for root,dirs,files in os.walk('/Users/Jackie/Desktop/test1107'):\n",
    "    for ele in files:\n",
    "        if '.csv' in ele:\n",
    "            fileslist.append(root+'/'+ele)\n",
    "\n",
    "for f in fileslist:\n",
    "    ff=[]\n",
    "    for line in io.open(f,'r',encoding='utf-8'):\n",
    "        ff.append(line)\n",
    "          # 檔案名字用VD的編號，從檔案內的第一欄抓出來\n",
    "    fname = ff[2:-2][0].split(',')[0] \n",
    "    with io.open('/Users/Jackie/Desktop/ETL_2016_1117/clean/' + fname + '.csv', 'w', encoding='utf-8') as wfile:\n",
    "        wfile.write(u'''EQIPnumber,location,direct,YMD,hour,laneNumber,\\\n",
    "        addTotal,15Total,truckflow,carflow,scooterflow,avgspeed,avgPercent,avgCarSpace''' + u'\\n')\n",
    "        # 去掉檔案裡上下不用的中文敘述，再把平均速度='-1'的值挑掉不要，最後是把原來檔案內的','跟'\\n'去掉。\n",
    "        for ele in ff[2:-2]:\n",
    "            if ele.split(',')[-4] == '-1.0':\n",
    "                continue\n",
    "            else:\n",
    "                sf=[]\n",
    "                for el in ele.split(','):\n",
    "                    if ele.split(',')[3] == el:\n",
    "                        sf.append(','.join((ele.split(',')[3]).split(' ')))\n",
    "                    elif (ele.split(',')[0] == 'VSSWC60')&(el == '未指定'):\n",
    "                        sf.append('西')\n",
    "                    elif (ele.split(',')[0] == 'V6141E0')&(el == '正向放置'):\n",
    "                        sf.append('西')\n",
    "                        \n",
    "                        \n",
    "                        \n",
    "                        \n",
    "                    else:\n",
    "                        sf.append(el)\n",
    "                wfile.write(','.join(sf)[:-2] + '\\n')\n",
    "\n",
    "  "
   ]
  },
  {
   "cell_type": "code",
   "execution_count": 18,
   "metadata": {
    "collapsed": true
   },
   "outputs": [],
   "source": []
  },
  {
   "cell_type": "code",
   "execution_count": null,
   "metadata": {
    "collapsed": true
   },
   "outputs": [],
   "source": []
  },
  {
   "cell_type": "code",
   "execution_count": null,
   "metadata": {
    "collapsed": true
   },
   "outputs": [],
   "source": []
  },
  {
   "cell_type": "code",
   "execution_count": null,
   "metadata": {
    "collapsed": true
   },
   "outputs": [],
   "source": []
  },
  {
   "cell_type": "code",
   "execution_count": null,
   "metadata": {
    "collapsed": true
   },
   "outputs": [],
   "source": []
  },
  {
   "cell_type": "code",
   "execution_count": null,
   "metadata": {
    "collapsed": true
   },
   "outputs": [],
   "source": []
  },
  {
   "cell_type": "code",
   "execution_count": null,
   "metadata": {
    "collapsed": true
   },
   "outputs": [],
   "source": []
  },
  {
   "cell_type": "code",
   "execution_count": null,
   "metadata": {
    "collapsed": true
   },
   "outputs": [],
   "source": []
  },
  {
   "cell_type": "code",
   "execution_count": null,
   "metadata": {
    "collapsed": true
   },
   "outputs": [],
   "source": []
  }
 ],
 "metadata": {
  "anaconda-cloud": {},
  "kernelspec": {
   "display_name": "Python [Root]",
   "language": "python",
   "name": "Python [Root]"
  },
  "language_info": {
   "codemirror_mode": {
    "name": "ipython",
    "version": 2
   },
   "file_extension": ".py",
   "mimetype": "text/x-python",
   "name": "python",
   "nbconvert_exporter": "python",
   "pygments_lexer": "ipython2",
   "version": "2.7.12"
  }
 },
 "nbformat": 4,
 "nbformat_minor": 0
}
