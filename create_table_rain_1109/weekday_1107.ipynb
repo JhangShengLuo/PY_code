{
 "cells": [
  {
   "cell_type": "code",
   "execution_count": null,
   "metadata": {
    "collapsed": false
   },
   "outputs": [],
   "source": []
  },
  {
   "cell_type": "code",
   "execution_count": null,
   "metadata": {
    "collapsed": true
   },
   "outputs": [],
   "source": []
  },
  {
   "cell_type": "code",
   "execution_count": null,
   "metadata": {
    "collapsed": true
   },
   "outputs": [],
   "source": []
  },
  {
   "cell_type": "code",
   "execution_count": 149,
   "metadata": {
    "collapsed": false
   },
   "outputs": [],
   "source": [
    "import datetime\n",
    "import time\n",
    "import sys\n",
    "default_stdout = sys.stdout\n",
    "default_stderr = sys.stderr\n",
    "reload(sys)\n",
    "sys.stdout = default_stdout\n",
    "sys.stderr = default_stderr\n",
    "sys.setdefaultencoding('utf-8')\n",
    "\n",
    "\"\"\"\n",
    "判斷資料是否正確！\n",
    "\n",
    "先進資料庫，確認日期(時間)，將最新的日期(時間)取出，再產生加七天的日期，形成一個['date,rain=0,WD','date,rain=0,WD',...]\n",
    "的陣列在寫進資料庫。\n",
    "\n",
    "\n",
    "\"\"\"\n",
    "def rain_wd_insert():\n",
    "    import mysql.connector\n",
    "    from mysql.connector import MySQLConnection, Error\n",
    "    try:\n",
    "        conn = mysql.connector.connect(host='localhost',\n",
    "                                       database='1108test',\n",
    "                                       user='root',\n",
    "                                       password='apple')\n",
    "        cursor = conn.cursor()\n",
    "        query = ('''select YMD from rain;''')\n",
    "        cursor.execute(query)\n",
    "        ''' \n",
    "        use checklist[] to store all the date in the table, later I can use this [] to check data repeat or not,\n",
    "        but now I'm only use it to get the latest date we have in DB.\n",
    "\n",
    "        '''\n",
    "        # 把所有的日期存成list\n",
    "        checklist=[]\n",
    "        for ele in cursor:\n",
    "            for element in ele:\n",
    "                checklist.append(format(element).decode('utf-8'))\n",
    "        # 取今天的日期\n",
    "        td=datetime.datetime.today()\n",
    "        # 取DB最新的日期資料\n",
    "        lastest_day = datetime.datetime.strptime(checklist[-1],'%Y-%m-%d')\n",
    "        #相減得到時間差\n",
    "        period = td - lastest_day\n",
    "        # 以天數表示\n",
    "        p = period.days\n",
    "        # 若相差天數在7天以上，就執行insert新資料\n",
    "        # 小於等於七天就不執行，改印出未滿七天，再等幾天吧。\n",
    "        if p > 7:\n",
    "            this_week_list=[]\n",
    "            for i in range(0,7):\n",
    "                dateymd = (lastest_day + datetime.timedelta(days = i+1 )).date()\n",
    "                datewd = dateymd.strftime('%a')\n",
    "                temp=[]\n",
    "                temp.append('rain')\n",
    "                temp.append(str(dateymd))\n",
    "                temp.append('0')\n",
    "                temp.append(datewd)\n",
    "                mytuple = tuple(temp)\n",
    "                this_week_list.append(mytuple)\n",
    "            for ele in this_week_list:         \n",
    "                query = ('''insert into {r[0]} (YMD,rain,WD)values ('{r[1]}','{r[2]}','{r[3]}');'''.format(r=ele))\n",
    "                cursor.execute(query)\n",
    "                print ('已經成功insert '+ele[1])\n",
    "            conn.commit()\n",
    "             \n",
    "        else:\n",
    "            print('還差'+str(7-p)+'天才能執行insert table rain喔！')\n",
    "    except Error as e:\n",
    "        print(e)\n",
    "        with open('/Users/Jackie/Desktop/data_1107/insert.txt','w') as here3:\n",
    "            here3.write(u'insert exception'+u'\\n')\n",
    "            here3.write(str(sys.stderr)+u'\\n')\n",
    "            here3.write(str(sys.exc_info()[0])+u'\\n')\n",
    "            here3.write(str(sys.exc_info()[1])+u'\\n')\n",
    "            here3.write(str(sys.exc_info()[2])+u'\\n')\n",
    "    finally:\n",
    "        cursor.close()\n",
    "        conn.close()\n"
   ]
  },
  {
   "cell_type": "code",
   "execution_count": 151,
   "metadata": {
    "collapsed": false
   },
   "outputs": [
    {
     "name": "stdout",
     "output_type": "stream",
     "text": [
      "還差4天才能執行insert table rain喔！\n"
     ]
    }
   ],
   "source": [
    "rain_wd_insert()"
   ]
  },
  {
   "cell_type": "code",
   "execution_count": null,
   "metadata": {
    "collapsed": true
   },
   "outputs": [],
   "source": []
  },
  {
   "cell_type": "code",
   "execution_count": null,
   "metadata": {
    "collapsed": true
   },
   "outputs": [],
   "source": []
  },
  {
   "cell_type": "code",
   "execution_count": null,
   "metadata": {
    "collapsed": true
   },
   "outputs": [],
   "source": []
  },
  {
   "cell_type": "code",
   "execution_count": null,
   "metadata": {
    "collapsed": true
   },
   "outputs": [],
   "source": []
  },
  {
   "cell_type": "code",
   "execution_count": 104,
   "metadata": {
    "collapsed": false
   },
   "outputs": [
    {
     "name": "stdout",
     "output_type": "stream",
     "text": [
      "2016-11-08\n",
      "Tue\n"
     ]
    }
   ],
   "source": [
    "td=datetime.date.today()\n",
    "print td\n",
    "print td.strftime('%a')"
   ]
  },
  {
   "cell_type": "code",
   "execution_count": null,
   "metadata": {
    "collapsed": true
   },
   "outputs": [],
   "source": []
  },
  {
   "cell_type": "code",
   "execution_count": 1,
   "metadata": {
    "collapsed": false
   },
   "outputs": [],
   "source": [
    "import datetime\n",
    "import time\n",
    "import csv\n",
    "import io\n",
    "import os\n",
    "\n",
    "# if not os.path.exists('/Users/Jackie/Desktop/ETLcode1103/okay'):\n",
    "#     os.makedirs('/Users/Jackie/Desktop/ETLcode1103/okay')\n",
    "\n",
    "with io.open('/Users/Jackie/Desktop/ETLcode1103/rain.csv','r',encoding='utf-8') as rfile:\n",
    "    with io.open('/Users/Jackie/Desktop/ETLcode1103/rain_week.csv','w',encoding='utf-8') as wfile:\n",
    "        wfile.write(u'YMD,rain,WD'+u'\\n')\n",
    "        for line in rfile:\n",
    "            YMD = line.split(',')[0]\n",
    "            ta=time.strptime(YMD,'%Y-%m-%d')\n",
    "            y, m, d= ta[0:3]\n",
    "            ta = datetime.datetime(y,m,d)\n",
    "            wfile.write(line.strip())\n",
    "            wfile.write(u','+str(ta.strftime('%a'))+u'\\n')\n",
    "#             print ta.isoweekday()\n",
    "    \n",
    "\n",
    "    "
   ]
  },
  {
   "cell_type": "code",
   "execution_count": 1,
   "metadata": {
    "collapsed": false
   },
   "outputs": [
    {
     "name": "stdout",
     "output_type": "stream",
     "text": [
      "<type 'time.struct_time'>\n",
      "time.struct_time(tm_year=2016, tm_mon=4, tm_mday=1, tm_hour=0, tm_min=0, tm_sec=0, tm_wday=4, tm_yday=92, tm_isdst=-1)\n",
      "Fri\n"
     ]
    }
   ],
   "source": [
    "# 字串日期轉成時間格式\n",
    "\n",
    "\n",
    "\n",
    "# import datetime\n",
    "# import time\n",
    "\n",
    "\n",
    "# tt=[u'2016-04-01',u'0']\n",
    "\n",
    "# ta=time.strptime(tt[0],'%Y-%m-%d')\n",
    "# print type(ta)\n",
    "\n",
    "\n",
    "# print ta\n",
    "\n",
    "# y, m, d =ta[0:3]\n",
    "\n",
    "# ta=datetime.datetime(y,m,d)\n",
    "\n",
    "# print ta.strftime('%a')"
   ]
  },
  {
   "cell_type": "code",
   "execution_count": 16,
   "metadata": {
    "collapsed": false
   },
   "outputs": [
    {
     "name": "stdout",
     "output_type": "stream",
     "text": [
      "time.struct_time(tm_year=2016, tm_mon=11, tm_mday=9, tm_hour=15, tm_min=27, tm_sec=39, tm_wday=2, tm_yday=314, tm_isdst=0)\n",
      "20161109\n"
     ]
    }
   ],
   "source": [
    "print time.localtime()\n",
    "ct=time.strftime('%Y-%m-%d',time.localtime())\n",
    "print ct\n"
   ]
  },
  {
   "cell_type": "code",
   "execution_count": 109,
   "metadata": {
    "collapsed": false
   },
   "outputs": [
    {
     "name": "stdout",
     "output_type": "stream",
     "text": [
      "<type 'int'>\n"
     ]
    }
   ],
   "source": [
    "past=\"2016-10-15\"\n",
    "past_time = datetime.datetime.strptime(past,'%Y-%m-%d')\n",
    "today_time = datetime.datetime.today()\n",
    "period = today_time - past_time \n",
    "p=period.days\n",
    "\n",
    "for i in range(0,p):\n",
    "    print (past_time + datetime.timedelta(days = i+1 )).date()"
   ]
  },
  {
   "cell_type": "code",
   "execution_count": 29,
   "metadata": {
    "collapsed": false
   },
   "outputs": [
    {
     "name": "stdout",
     "output_type": "stream",
     "text": [
      "2\n",
      "2016Nov07\n"
     ]
    }
   ],
   "source": [
    "import datetime\n",
    "import time\n",
    "today = datetime.datetime.today()\n",
    "print today.weekday()\n",
    "tablename = today + datetime.timedelta(0-today.weekday())\n",
    "print time.strftime('%Y%b%d',tablename.timetuple())\n",
    "\n",
    "\n"
   ]
  },
  {
   "cell_type": "code",
   "execution_count": null,
   "metadata": {
    "collapsed": true
   },
   "outputs": [],
   "source": []
  },
  {
   "cell_type": "code",
   "execution_count": null,
   "metadata": {
    "collapsed": true
   },
   "outputs": [],
   "source": []
  },
  {
   "cell_type": "code",
   "execution_count": 20,
   "metadata": {
    "collapsed": false
   },
   "outputs": [
    {
     "name": "stdout",
     "output_type": "stream",
     "text": [
      "2016-11-08\n",
      "2016-11-08\n"
     ]
    }
   ],
   "source": [
    "import datetime\n",
    "print datetime.datetime.now().date()\n",
    "print datetime.date.today()"
   ]
  },
  {
   "cell_type": "code",
   "execution_count": null,
   "metadata": {
    "collapsed": true
   },
   "outputs": [],
   "source": []
  }
 ],
 "metadata": {
  "anaconda-cloud": {},
  "kernelspec": {
   "display_name": "Python [Root]",
   "language": "python",
   "name": "Python [Root]"
  },
  "language_info": {
   "codemirror_mode": {
    "name": "ipython",
    "version": 2
   },
   "file_extension": ".py",
   "mimetype": "text/x-python",
   "name": "python",
   "nbconvert_exporter": "python",
   "pygments_lexer": "ipython2",
   "version": "2.7.12"
  }
 },
 "nbformat": 4,
 "nbformat_minor": 0
}
