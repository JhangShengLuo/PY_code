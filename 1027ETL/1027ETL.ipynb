{
 "cells": [
  {
   "cell_type": "code",
   "execution_count": null,
   "metadata": {
    "collapsed": true
   },
   "outputs": [],
   "source": []
  },
  {
   "cell_type": "code",
   "execution_count": 6,
   "metadata": {
    "collapsed": true
   },
   "outputs": [],
   "source": [
    "import sys\n",
    "default_stdout = sys.stdout\n",
    "default_stderr = sys.stderr\n",
    "reload(sys)\n",
    "sys.stdout = default_stdout\n",
    "sys.stderr = default_stderr\n",
    "sys.setdefaultencoding('utf-8')\n",
    "import datetime\n",
    "import csv,io\n",
    "import mysql.connector\n",
    "cnx = mysql.connector.connect(user='root',password='apple', database='1021test1')\n",
    "cursor = cnx.cursor()\n",
    "# query = (\"select * from totala;\") #整個TABLE全選\n",
    "EVQEUU60 = (\"\"\"select EVQEUU60.location,EVQEUU60.lanenumber,EVQEUU60.direct,EVQEUU60.YMD,EVQEUU60.hour,\n",
    "EVQEUU60.15Total  ,EVQEUU60.avgspeed ,EVQEUU60.avgpercent , EVQEUU60.avgCarSpace ,rain.WD from EVQEUU60\n",
    "join rain on EVQEUU60.YMD=rain.YMD;\"\"\")\n",
    "EVQKWL60 = (\"\"\"select EVQKWL60.location,EVQKWL60.lanenumber,EVQKWL60.direct,EVQKWL60.YMD,EVQKWL60.hour,\n",
    "EVQKWL60.15Total  ,EVQKWL60.avgspeed ,EVQKWL60.avgpercent , EVQKWL60.avgCarSpace ,rain.WD from EVQKWL60 \n",
    "join rain on EVQKWL60.YMD=rain.YMD;\"\"\")\n",
    "EVQKWL61 = (\"\"\"select EVQKWL61.location,EVQKWL61.lanenumber,EVQKWL61.direct,EVQKWL61.YMD,EVQKWL61.hour,\n",
    "EVQKWL61.15Total  ,EVQKWL61.avgspeed ,EVQKWL61.avgpercent , EVQKWL61.avgCarSpace ,rain.WD from EVQKWL61 \n",
    "join rain on EVQKWL61.YMD=rain.YMD;\"\"\")\n",
    "WVQEUU60 = (\"\"\"select WVQEUU60.location,WVQEUU60.lanenumber,WVQEUU60.direct,WVQEUU60.YMD,WVQEUU60.hour,\n",
    "WVQEUU60.15Total  ,WVQEUU60.avgspeed ,WVQEUU60.avgpercent , WVQEUU60.avgCarSpace ,rain.WD from WVQEUU60 \n",
    "join rain on WVQEUU60.YMD=rain.YMD;\"\"\")\n",
    "WVQKWL60 = (\"\"\"select WVQKWL60.location,WVQKWL60.lanenumber,WVQKWL60.direct,WVQKWL60.YMD,WVQKWL60.hour,\n",
    "WVQKWL60.15Total  ,WVQKWL60.avgspeed ,WVQKWL60.avgpercent , WVQKWL60.avgCarSpace ,rain.WD from WVQKWL60 \n",
    "join rain on WVQKWL60.YMD=rain.YMD;\"\"\")\n",
    "WVQKWL61 = (\"\"\"select WVQKWL61.location,WVQKWL61.lanenumber,WVQKWL61.direct,WVQKWL61.YMD,WVQKWL61.hour,\n",
    "WVQKWL61.15Total ,WVQKWL61.avgspeed ,WVQKWL61.avgpercent , WVQKWL61.avgCarSpace ,rain.WD from WVQKWL61 \n",
    "join rain on WVQKWL61.YMD=rain.YMD;\n",
    "\"\"\")\n",
    "NVTXQL00 = (\"\"\"select NVTXQL00.location,NVTXQL00.lanenumber,NVTXQL00.direct,NVTXQL00.YMD,NVTXQL00.hour,\n",
    "NVTXQL00.15Total  ,NVTXQL00.avgspeed ,NVTXQL00.avgpercent , NVTXQL00.avgCarSpace ,rain.WD from NVTXQL00 \n",
    "join rain on NVTXQL00.YMD=rain.YMD;\n",
    "\"\"\")\n",
    "NVT5QV00 = (\"\"\"select NVT5QV00.location,NVT5QV00.lanenumber,NVT5QV00.direct,NVT5QV00.YMD,NVT5QV00.hour,\n",
    "NVT5QV00.15Total  ,NVT5QV00.avgspeed ,NVT5QV00.avgpercent , NVT5QV00.avgCarSpace ,rain.WD from NVT5QV00 \n",
    "join rain on NVT5QV00.YMD=rain.YMD;\n",
    "\"\"\")\n",
    "NVSPRA40 = (\"\"\"select NVSPRA40.location,NVSPRA40.lanenumber,NVSPRA40.direct,NVSPRA40.YMD,NVSPRA40.hour,\n",
    "NVSPRA40.15Total  ,NVSPRA40.avgspeed ,NVSPRA40.avgpercent , NVSPRA40.avgCarSpace ,rain.WD from NVSPRA40 \n",
    "join rain on NVSPRA40.YMD=rain.YMD;\n",
    "\"\"\")\n",
    "NVRPSV70 = (\"\"\"select NVRPSV70.location,NVRPSV70.lanenumber,NVRPSV70.direct,NVRPSV70.YMD,NVRPSV70.hour,\n",
    "NVRPSV70.15Total  ,NVRPSV70.avgspeed ,NVRPSV70.avgpercent , NVRPSV70.avgCarSpace ,rain.WD from NVRPSV70 \n",
    "join rain on NVRPSV70.YMD=rain.YMD;\n",
    "\"\"\")\n",
    "NVPMSV40 = (\"\"\"select NVPMSV40.location,NVPMSV40.lanenumber,NVPMSV40.direct,NVPMSV40.YMD,NVPMSV40.hour,\n",
    "NVPMSV40.15Total  ,NVPMSV40.avgspeed ,NVPMSV40.avgpercent , NVPMSV40.avgCarSpace ,rain.WD from NVPMSV40 \n",
    "join rain on NVPMSV40.YMD=rain.YMD;\n",
    "\"\"\")\n",
    "NVRPSV00 = (\"\"\"select NVRPSV00.location,NVRPSV00.lanenumber,NVRPSV00.direct,NVRPSV00.YMD,NVRPSV00.hour,\n",
    "NVRPSV00.15Total  ,NVRPSV00.avgspeed ,NVRPSV00.avgpercent , NVRPSV00.avgCarSpace ,rain.WD from NVRPSV00 \n",
    "join rain on NVRPSV00.YMD=rain.YMD;\n",
    "\"\"\")\n",
    "SVTXQL00 = (\"\"\"select SVTXQL00.location,SVTXQL00.lanenumber,SVTXQL00.direct,SVTXQL00.YMD,SVTXQL00.hour,\n",
    "SVTXQL00.15Total  ,SVTXQL00.avgspeed ,SVTXQL00.avgpercent , SVTXQL00.avgCarSpace ,rain.WD from SVTXQL00 \n",
    "join rain on SVTXQL00.YMD=rain.YMD;\n",
    "\"\"\")\n",
    "SVT5QV00 = (\"\"\"select SVT5QV00.location,SVT5QV00.lanenumber,SVT5QV00.direct,SVT5QV00.YMD,SVT5QV00.hour,\n",
    "SVT5QV00.15Total  ,SVT5QV00.avgspeed ,SVT5QV00.avgpercent , SVT5QV00.avgCarSpace ,rain.WD from SVT5QV00 \n",
    "join rain on SVT5QV00.YMD=rain.YMD;\n",
    "\"\"\")\n",
    "SVSPRA40 = (\"\"\"select SVSPRA40.location,SVSPRA40.lanenumber,SVSPRA40.direct,SVSPRA40.YMD,SVSPRA40.hour,\n",
    "SVSPRA40.15Total  ,SVSPRA40.avgspeed ,SVSPRA40.avgpercent , SVSPRA40.avgCarSpace ,rain.WD from SVSPRA40 \n",
    "join rain on SVSPRA40.YMD=rain.YMD;\n",
    "\"\"\")\n",
    "SVPMSV40 = (\"\"\"select SVPMSV40.location,SVPMSV40.lanenumber,SVPMSV40.direct,SVPMSV40.YMD,SVPMSV40.hour,\n",
    "SVPMSV40.15Total  ,SVPMSV40.avgspeed ,SVPMSV40.avgpercent , SVPMSV40.avgCarSpace ,rain.WD from SVPMSV40 \n",
    "join rain on SVPMSV40.YMD=rain.YMD;\n",
    "\"\"\")\n",
    "SVRPSV00 = (\"\"\"select SVRPSV00.location,SVRPSV00.lanenumber,SVRPSV00.direct,SVRPSV00.YMD,SVRPSV00.hour,\n",
    "SVRPSV00.15Total ,SVRPSV00.avgspeed ,SVRPSV00.avgpercent , SVRPSV00.avgCarSpace ,rain.WD from SVRPSV00 \n",
    "join rain on SVRPSV00.YMD=rain.YMD;\n",
    "\"\"\")\n",
    "query=[EVQEUU60,EVQKWL60,EVQKWL61,WVQEUU60,WVQKWL60,WVQKWL61,NVTXQL00,NVT5QV00,NVSPRA40,NVRPSV70,NVPMSV40,NVRPSV00\\\n",
    "      ,SVTXQL00,SVT5QV00,SVSPRA40,SVPMSV40,SVRPSV00]\n",
    "VDname=['EVQEUU60,民權','EVQKWL60,民權','EVQKWL61,民權','WVQEUU60,民權','WVQKWL60,民權','WVQKWL61,民權'\\\n",
    "       ,'NVTXQL00,堤頂','NVT5QV00,堤頂','NVSPRA40,堤頂','NVRPSV70,堤頂','NVPMSV40,堤頂','NVRPSV00,堤頂'\\\n",
    "       ,'SVTXQL00,堤頂','SVT5QV00,堤頂','SVSPRA40,堤頂','SVPMSV40,堤頂','SVRPSV00,堤頂']\n",
    "# Using the cursor as iterator\n",
    "with io.open('1028etl.csv','w',encoding='utf-8')as RDBque:\n",
    "    RDBque.write(\"VD編號,道路,位置,道路數,方向,日期,時間,當量,平均速度,平均佔有率,平均車間距,星期\"+u'\\n')\n",
    "    i=0\n",
    "    for ele in query:\n",
    "        cursor.execute(ele)\n",
    "        i+=1\n",
    "        for rows in cursor:\n",
    "            RDBque.write(VDname[i-1]+u',')\n",
    "            for ele in range(len(rows)):\n",
    "                if ele == len(rows)-1:\n",
    "                    RDBque.write(format(rows[ele]).decode('utf-8')+u'\\n')\n",
    "                else:\n",
    "                    RDBque.write(format(rows[ele]).decode('utf-8')+u',')\n",
    "cursor.close()\n",
    "cnx.close()"
   ]
  },
  {
   "cell_type": "code",
   "execution_count": null,
   "metadata": {
    "collapsed": true
   },
   "outputs": [],
   "source": []
  },
  {
   "cell_type": "code",
   "execution_count": 7,
   "metadata": {
    "collapsed": false
   },
   "outputs": [],
   "source": []
  },
  {
   "cell_type": "code",
   "execution_count": null,
   "metadata": {
    "collapsed": true
   },
   "outputs": [],
   "source": []
  },
  {
   "cell_type": "code",
   "execution_count": null,
   "metadata": {
    "collapsed": true
   },
   "outputs": [],
   "source": []
  }
 ],
 "metadata": {
  "anaconda-cloud": {},
  "kernelspec": {
   "display_name": "Python [Root]",
   "language": "python",
   "name": "Python [Root]"
  },
  "language_info": {
   "codemirror_mode": {
    "name": "ipython",
    "version": 2
   },
   "file_extension": ".py",
   "mimetype": "text/x-python",
   "name": "python",
   "nbconvert_exporter": "python",
   "pygments_lexer": "ipython2",
   "version": "2.7.12"
  }
 },
 "nbformat": 4,
 "nbformat_minor": 0
}
