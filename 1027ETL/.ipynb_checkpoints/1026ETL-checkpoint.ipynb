{
 "cells": [
  {
   "cell_type": "code",
   "execution_count": null,
   "metadata": {
    "collapsed": true
   },
   "outputs": [],
   "source": []
  },
  {
   "cell_type": "code",
   "execution_count": 5,
   "metadata": {
    "collapsed": true
   },
   "outputs": [],
   "source": [
    "import sys\n",
    "default_stdout = sys.stdout\n",
    "default_stderr = sys.stderr\n",
    "reload(sys)\n",
    "sys.stdout = default_stdout\n",
    "sys.stderr = default_stderr\n",
    "sys.setdefaultencoding('utf-8')\n",
    "\n",
    "import datetime\n",
    "import csv,io\n",
    "import mysql.connector\n",
    "\n",
    "cnx = mysql.connector.connect(user='root',password='apple', database='1021test1')\n",
    "cursor = cnx.cursor()\n",
    "\n",
    "# query = (\"select * from totala;\") #整個TABLE全選\n",
    "MEquery = (\"\"\"select EVQEUU60.direct,EVQEUU60.YMD,EVQEUU60.hour,(EVQEUU60.15Total + \n",
    "EVQKWL60.15Total + EVQKWL61.15Total) 'total' ,(EVQEUU60.avgspeed + EVQKWL60.avgspeed \n",
    "+ EVQKWL61.avgspeed)/3 'avgspeed',(EVQEUU60.avgpercent + EVQKWL60.avgpercent + \n",
    "EVQKWL61.avgpercent )/3 'avgpercent', (EVQEUU60.avgCarSpace + EVQKWL60.avgCarSpace + \n",
    "EVQKWL61.avgCarSpace )/3 'avgCarSpace' ,rain.WD from EVQEUU60 join EVQKWL60 on \n",
    "(EVQEUU60.YMD=EVQKWL60.YMD and EVQEUU60.hour=EVQKWL60.hour) join EVQKWL61 on \n",
    "(EVQEUU60.YMD=EVQKWL61.YMD and EVQEUU60.hour=EVQKWL61.hour)join rain on EVQEUU60.YMD=rain.YMD;\"\"\")\n",
    "\n",
    "MWquery = (\"\"\"select WVQEUU60.direct,WVQEUU60.YMD,WVQEUU60.hour,(WVQEUU60.15Total + WVQKWL60.15Total \n",
    "+ WVQKWL61.15Total) 'total' ,(WVQEUU60.avgspeed + WVQKWL60.avgspeed + WVQKWL61.avgspeed)/3 'avgspeed'\n",
    ",(WVQEUU60.avgpercent + WVQKWL60.avgpercent + WVQKWL61.avgpercent )/3 'avgpercent', \n",
    "(WVQEUU60.avgCarSpace + WVQKWL60.avgCarSpace + WVQKWL61.avgCarSpace )/3 'avgCarSpace' \n",
    ",rain.WD from WVQEUU60 join WVQKWL60 on (WVQEUU60.YMD=WVQKWL60.YMD and WVQEUU60.hour=WVQKWL60.hour)\n",
    "join WVQKWL61 on (WVQEUU60.YMD=WVQKWL61.YMD and WVQEUU60.hour=WVQKWL61.hour)join rain on WVQEUU60.YMD=rain.YMD;\"\"\")\n",
    "\n",
    "\n",
    "query=[MEquery,MWquery]\n",
    "\n",
    "\n",
    "# Using the cursor as iterator\n",
    "with io.open('民權.csv','w',encoding='utf-8')as RDBque:\n",
    "    RDBque.write(\"方向,日期,時間,當量總和,平均速度,平均佔有率,平均車間距,星期\"+u'\\n')\n",
    "    for ele in query:\n",
    "        cursor.execute(ele)\n",
    "        for rows in cursor:\n",
    "            for ele in range(len(rows)):\n",
    "                if ele == len(rows)-1:\n",
    "                    RDBque.write(format(rows[ele]).decode('utf-8')+u'\\n')\n",
    "                else:\n",
    "                    RDBque.write(format(rows[ele]).decode('utf-8')+u',')\n",
    "cursor.close()\n",
    "cnx.close()\n"
   ]
  },
  {
   "cell_type": "code",
   "execution_count": null,
   "metadata": {
    "collapsed": true
   },
   "outputs": [],
   "source": []
  },
  {
   "cell_type": "code",
   "execution_count": 7,
   "metadata": {
    "collapsed": false
   },
   "outputs": [],
   "source": [
    "#把三張表合成一張表！！！\n",
    "\n",
    "\n",
    "import sys\n",
    "default_stdout = sys.stdout\n",
    "default_stderr = sys.stderr\n",
    "reload(sys)\n",
    "sys.stdout = default_stdout\n",
    "sys.stderr = default_stderr\n",
    "sys.setdefaultencoding('utf-8')\n",
    "\n",
    "\n",
    "import csv,io,os\n",
    "\n",
    "allappend=[]\n",
    "allappend.append(u'道路'+u','+'方向,日期,時間,當量總和,平均速度,平均佔有率,平均車間距,星期\\n')\n",
    "# with io.open(\"堤頂.csv\",'r',encoding ='utf-8') as rfile:\n",
    "#     temp = []\n",
    "#     for line in rfile:\n",
    "#         temp.append(line)\n",
    "#     for ele in temp[1:]:\n",
    "#         allappend.append(u'堤頂'+u','+ele)\n",
    "with io.open(\"民權.csv\",'r',encoding ='utf-8') as rfile:\n",
    "    temp = []\n",
    "    for line in rfile:\n",
    "        temp.append(line)\n",
    "    for ele in temp[1:]:\n",
    "        allappend.append(u'民權'+u','+ele)\n",
    "        \n",
    "# with io.open(\"舊宗.csv\",'r',encoding ='utf-8') as rfile:\n",
    "#     temp = []\n",
    "#     for line in rfile:\n",
    "#         temp.append(line)\n",
    "#     for ele in temp[1:]:\n",
    "#         allappend.append(u'舊宗'+u','+ele)\n",
    "        \n",
    "        \n",
    "with io.open('1026all.csv','w',encoding='utf-8')as wfile:\n",
    "    for ele in allappend:\n",
    "        wfile.write(ele)\n",
    "# for ele in allappend:\n",
    "#     print ele"
   ]
  },
  {
   "cell_type": "code",
   "execution_count": null,
   "metadata": {
    "collapsed": true
   },
   "outputs": [],
   "source": []
  },
  {
   "cell_type": "code",
   "execution_count": null,
   "metadata": {
    "collapsed": true
   },
   "outputs": [],
   "source": []
  }
 ],
 "metadata": {
  "anaconda-cloud": {},
  "kernelspec": {
   "display_name": "Python [Root]",
   "language": "python",
   "name": "Python [Root]"
  },
  "language_info": {
   "codemirror_mode": {
    "name": "ipython",
    "version": 2
   },
   "file_extension": ".py",
   "mimetype": "text/x-python",
   "name": "python",
   "nbconvert_exporter": "python",
   "pygments_lexer": "ipython2",
   "version": "2.7.12"
  }
 },
 "nbformat": 4,
 "nbformat_minor": 0
}
