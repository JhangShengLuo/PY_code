{
 "cells": [
  {
   "cell_type": "code",
   "execution_count": 96,
   "metadata": {
    "collapsed": true
   },
   "outputs": [],
   "source": [
    "import io\n",
    "import sys\n",
    "default_stdout = sys.stdout\n",
    "default_stderr = sys.stderr\n",
    "reload(sys)\n",
    "sys.stdout = default_stdout\n",
    "sys.stderr = default_stderr\n",
    "sys.setdefaultencoding('utf-8')\n",
    "import csv\n",
    "import mysql.connector\n",
    "from mysql.connector import MySQLConnection, Error\n",
    "def query():\n",
    "    \"\"\"\n",
    "    1027ETL改正版，原先的query太多筆，所以現在將要查詢的table整個寫成一個list\n",
    "    \n",
    "    \"\"\"\n",
    "    try:\n",
    "        conn = mysql.connector.connect(host='localhost',\n",
    "                                       database='1025try',\n",
    "                                       user='root',\n",
    "                                       password='apple')\n",
    "        cursor = conn.cursor()\n",
    "        # 將要查詢的table以及所屬道路寫成list，方便印出也可以用在query上。\n",
    "        Tablename=['EVQEUU60,民權','EVQKWL60,民權','EVQKWL61,民權','WVQEUU60,民權','WVQKWL60,民權','WVQKWL61,民權'\\\n",
    "                    ,'NVTXQL00,堤頂','NVT5QV00,堤頂','NVSPRA40,堤頂','NVRPSV70,堤頂','NVPMSV40,堤頂','NVRPSV00,堤頂'\\\n",
    "                    ,'SVTXQL00,堤頂','SVT5QV00,堤頂','SVSPRA40,堤頂','SVPMSV40,堤頂','SVRPSV00,堤頂'\\\n",
    "                ,'NVQRTE00,舊宗','SVQRTE00,舊宗']\n",
    "        # 開一個csv檔寫入\n",
    "        with io.open('1028堤頂舊宗民權.csv','w',encoding='utf-8')as RDBque:\n",
    "            # 寫欄位名稱\n",
    "            RDBque.write(\"VD編號,道路,位置,道路數,方向,日期,時間,當量,平均速度,平均佔有率,平均車間距,星期\"+u'\\n')\n",
    "            i=0\n",
    "            for ele in Tablename:\n",
    "                table=[]\n",
    "                table.append(ele.split(',')[0])\n",
    "                # 這裡query的寫法參照format的特殊用法，https://pyformat.info/\n",
    "                select_join=(\"\"\"select {r[0]}.location,{r[0]}.lanenumber,{r[0]}.direct,{r[0]}.YMD,{r[0]}.hour,\n",
    "                {r[0]}.15Total  ,{r[0]}.avgspeed ,{r[0]}.avgpercent , {r[0]}.avgCarSpace ,rain.WD from {r[0]} \n",
    "                join rain on {r[0]}.YMD=rain.YMD;\"\"\".format(r=table))\n",
    "                cursor.execute(select_join)\n",
    "                # Using the cursor as iterator\n",
    "                i+=1\n",
    "                # 不喜歡用fetchone，fetchmany，fetchall直接取cursor\n",
    "                for rows in cursor:\n",
    "                    RDBque.write(VDname[i-1]+u',')\n",
    "                    for element in range(len(rows)):\n",
    "                        #  如果element是最後一個元素，就寫入換行\n",
    "                        if element == len(rows)-1:\n",
    "                            RDBque.write(format(rows[element]).decode('utf-8')+u'\\n')\n",
    "                        else:\n",
    "                            RDBque.write(format(rows[element]).decode('utf-8')+u',')\n",
    "    except Error as e:\n",
    "        print(e)\n",
    "    finally:\n",
    "        cursor.close()\n",
    "        conn.close()"
   ]
  },
  {
   "cell_type": "code",
   "execution_count": 97,
   "metadata": {
    "collapsed": true
   },
   "outputs": [],
   "source": [
    "query()"
   ]
  },
  {
   "cell_type": "code",
   "execution_count": null,
   "metadata": {
    "collapsed": true
   },
   "outputs": [],
   "source": []
  },
  {
   "cell_type": "code",
   "execution_count": null,
   "metadata": {
    "collapsed": true
   },
   "outputs": [],
   "source": []
  },
  {
   "cell_type": "code",
   "execution_count": null,
   "metadata": {
    "collapsed": true
   },
   "outputs": [],
   "source": []
  },
  {
   "cell_type": "code",
   "execution_count": null,
   "metadata": {
    "collapsed": true
   },
   "outputs": [],
   "source": []
  },
  {
   "cell_type": "code",
   "execution_count": null,
   "metadata": {
    "collapsed": true
   },
   "outputs": [],
   "source": []
  }
 ],
 "metadata": {
  "kernelspec": {
   "display_name": "Python [Root]",
   "language": "python",
   "name": "Python [Root]"
  },
  "language_info": {
   "codemirror_mode": {
    "name": "ipython",
    "version": 2
   },
   "file_extension": ".py",
   "mimetype": "text/x-python",
   "name": "python",
   "nbconvert_exporter": "python",
   "pygments_lexer": "ipython2",
   "version": "2.7.12"
  }
 },
 "nbformat": 4,
 "nbformat_minor": 0
}
