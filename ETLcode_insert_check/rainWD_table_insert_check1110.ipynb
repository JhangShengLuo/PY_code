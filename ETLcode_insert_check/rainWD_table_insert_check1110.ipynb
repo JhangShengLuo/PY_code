{
 "cells": [
  {
   "cell_type": "code",
   "execution_count": 13,
   "metadata": {
    "collapsed": true
   },
   "outputs": [],
   "source": [
    "import datetime\n",
    "import time\n",
    "import sys\n",
    "import mysql.connector\n",
    "from mysql.connector import MySQLConnection, Error\n",
    "default_stdout = sys.stdout\n",
    "default_stderr = sys.stderr\n",
    "reload(sys)\n",
    "sys.stdout = default_stdout\n",
    "sys.stderr = default_stderr\n",
    "sys.setdefaultencoding('utf-8')\n",
    "\n",
    "\"\"\"\n",
    "先進資料庫，確認日期(時間)，將最新的日期(時間)取出，再產生加七天的日期，形成一個\n",
    "[('rain,date,rain=0,WD'),('rain,date,rain=0,WD'),....]\n",
    "的陣列再寫進資料庫。\n",
    "\n",
    "\n",
    "\"\"\"\n",
    "def rain_wd_insert():\n",
    "    try:\n",
    "        '''\n",
    "        DB:1107VD,1108test,for1121\n",
    "        \n",
    "        '''\n",
    "        conn = mysql.connector.connect(host='localhost',\n",
    "                                       database='for1121',\n",
    "                                       user='root',\n",
    "                                       password='apple')\n",
    "        cursor = conn.cursor()\n",
    "        query = ('''select YMD from rain;''')\n",
    "        cursor.execute(query)\n",
    "        ''' \n",
    "        use checklist[] to store all the date in the table, later I can use this [] to check data repeat or not,\n",
    "        but now I'm only use it to get the latest date we have in DB.\n",
    "\n",
    "        '''\n",
    "        # 把所有的日期存成list\n",
    "        checklist=[]\n",
    "        for ele in cursor:\n",
    "            for element in ele:\n",
    "                checklist.append(format(element).decode('utf-8'))\n",
    "        # 取今天的日期\n",
    "        td=datetime.datetime.today()\n",
    "        # 取DB最新的日期資料\n",
    "        lastest_day = datetime.datetime.strptime(checklist[-1],'%Y-%m-%d')\n",
    "        #相減得到時間差\n",
    "        period = td - lastest_day\n",
    "        # 以天數表示\n",
    "        p = period.days\n",
    "        # 若相差天數在7天以上，就執行insert新資料\n",
    "        # 小於等於七天就不執行，改印出未滿七天，再等幾天吧。\n",
    "        if p > 7:\n",
    "            this_week_list=[]\n",
    "            for i in range(0,7):\n",
    "                dateymd = (lastest_day + datetime.timedelta(days = i+1 )).date()\n",
    "                datewd = dateymd.strftime('%a')\n",
    "                temp=[]\n",
    "                temp.append('rain')\n",
    "                temp.append(str(dateymd))\n",
    "                temp.append('0')\n",
    "                temp.append(datewd)\n",
    "                mytuple = tuple(temp)\n",
    "                this_week_list.append(mytuple)\n",
    "            for ele in this_week_list:         \n",
    "                query = ('''insert into {r[0]} (YMD,rain,WD)values ('{r[1]}','{r[2]}','{r[3]}');'''.format(r=ele))\n",
    "                cursor.execute(query)\n",
    "                print ('已經成功insert '+ele[1])\n",
    "            conn.commit()\n",
    "             \n",
    "        else:\n",
    "            print('還差'+str(7-p)+'天才能執行insert table rain喔！')\n",
    "    except Error as e:\n",
    "        print(e)\n",
    "        with open('/Users/Jackie/Desktop/data_1107/insert_rain.txt','w') as here3:\n",
    "            here3.write(u'insert_rain exception'+u'\\n')\n",
    "            here3.write(str(sys.stderr)+u'\\n')\n",
    "            here3.write(str(sys.exc_info()[0])+u'\\n')\n",
    "            here3.write(str(sys.exc_info()[1])+u'\\n')\n",
    "            here3.write(str(sys.exc_info()[2])+u'\\n')\n",
    "    finally:\n",
    "        cursor.close()\n",
    "        conn.close()\n"
   ]
  },
  {
   "cell_type": "code",
   "execution_count": 14,
   "metadata": {
    "collapsed": false
   },
   "outputs": [
    {
     "name": "stdout",
     "output_type": "stream",
     "text": [
      "已經成功insert 2016-11-14\n",
      "已經成功insert 2016-11-15\n",
      "已經成功insert 2016-11-16\n",
      "已經成功insert 2016-11-17\n",
      "已經成功insert 2016-11-18\n",
      "已經成功insert 2016-11-19\n",
      "已經成功insert 2016-11-20\n"
     ]
    }
   ],
   "source": [
    "rain_wd_insert()"
   ]
  },
  {
   "cell_type": "code",
   "execution_count": null,
   "metadata": {
    "collapsed": true
   },
   "outputs": [],
   "source": []
  }
 ],
 "metadata": {
  "anaconda-cloud": {},
  "kernelspec": {
   "display_name": "Python [Root]",
   "language": "python",
   "name": "Python [Root]"
  },
  "language_info": {
   "codemirror_mode": {
    "name": "ipython",
    "version": 2
   },
   "file_extension": ".py",
   "mimetype": "text/x-python",
   "name": "python",
   "nbconvert_exporter": "python",
   "pygments_lexer": "ipython2",
   "version": "2.7.12"
  }
 },
 "nbformat": 4,
 "nbformat_minor": 0
}
