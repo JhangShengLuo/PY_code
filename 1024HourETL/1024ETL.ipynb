{
 "cells": [
  {
   "cell_type": "code",
   "execution_count": null,
   "metadata": {
    "collapsed": true
   },
   "outputs": [],
   "source": []
  },
  {
   "cell_type": "code",
   "execution_count": 1,
   "metadata": {
    "collapsed": true
   },
   "outputs": [],
   "source": [
    "import sys\n",
    "default_stdout = sys.stdout\n",
    "default_stderr = sys.stderr\n",
    "reload(sys)\n",
    "sys.stdout = default_stdout\n",
    "sys.stderr = default_stderr\n",
    "sys.setdefaultencoding('utf-8')\n",
    "\n",
    "import datetime\n",
    "import csv,io\n",
    "import mysql.connector\n",
    "\n",
    "cnx = mysql.connector.connect(user='root',password='apple', database='1024demo')\n",
    "cursor = cnx.cursor()\n",
    "\n",
    "# query = (\"select * from totala;\") #整個TABLE全選\n",
    "GNquery = (\"\"\"select NVQRTE00.direct, NVQRTE00.YMD, NVQRTE00.hour, NVQRTE00.15Total,\n",
    "NVQRTE00.avgspeed, NVQRTE00.avgpercent, NVQRTE00.avgCarSpace,rain.WD from NVQRTE00 \n",
    "join rain on NVQRTE00.YMD=rain.YMD;\"\"\")\n",
    "\n",
    "GSquery = (\"\"\"select SVQRTE00.direct, SVQRTE00.YMD, SVQRTE00.hour, SVQRTE00.15Total,\n",
    "SVQRTE00.avgspeed, SVQRTE00.avgpercent, SVQRTE00.avgCarSpace,rain.WD from SVQRTE00\n",
    "join rain on SVQRTE00.YMD=rain.YMD;\"\"\")\n",
    "\n",
    "\n",
    "query=[GNquery,GSquery]\n",
    "\n",
    "\n",
    "# Using the cursor as iterator\n",
    "with io.open('舊宗.csv','w',encoding='utf-8')as RDBque:\n",
    "    RDBque.write(\"方向,日期,時間,當量總和,平均速度,平均佔有率,平均車間距,星期\"+u'\\n')\n",
    "    for ele in query:\n",
    "        cursor.execute(ele)\n",
    "        for rows in cursor:\n",
    "            for ele in range(len(rows)):\n",
    "                if ele == len(rows)-1:\n",
    "                    RDBque.write(format(rows[ele]).decode('utf-8')+u'\\n')\n",
    "                else:\n",
    "                    RDBque.write(format(rows[ele]).decode('utf-8')+u',')\n",
    "cursor.close()\n",
    "cnx.close()\n"
   ]
  },
  {
   "cell_type": "code",
   "execution_count": 6,
   "metadata": {
    "collapsed": false
   },
   "outputs": [],
   "source": [
    "#把三張表合成一張表！！！\n",
    "\n",
    "\n",
    "import sys\n",
    "default_stdout = sys.stdout\n",
    "default_stderr = sys.stderr\n",
    "reload(sys)\n",
    "sys.stdout = default_stdout\n",
    "sys.stderr = default_stderr\n",
    "sys.setdefaultencoding('utf-8')\n",
    "\n",
    "\n",
    "import csv,io,os\n",
    "\n",
    "allappend=[]\n",
    "allappend.append(u'道路'+u','+'方向,日期,時間,當量總和,平均速度,平均佔有率,平均車間距,星期\\n')\n",
    "# with io.open(\"堤頂.csv\",'r',encoding ='utf-8') as rfile:\n",
    "#     temp = []\n",
    "#     for line in rfile:\n",
    "#         temp.append(line)\n",
    "#     for ele in temp[1:]:\n",
    "#         allappend.append(u'堤頂'+u','+ele)\n",
    "# with io.open(\"民權.csv\",'r',encoding ='utf-8') as rfile:\n",
    "#     temp = []\n",
    "#     for line in rfile:\n",
    "#         temp.append(line)\n",
    "#     for ele in temp[1:]:\n",
    "#         allappend.append(u'民權'+u','+ele)\n",
    "        \n",
    "with io.open(\"舊宗.csv\",'r',encoding ='utf-8') as rfile:\n",
    "    temp = []\n",
    "    for line in rfile:\n",
    "        temp.append(line)\n",
    "    for ele in temp[1:]:\n",
    "        allappend.append(u'舊宗'+u','+ele)\n",
    "        \n",
    "        \n",
    "with io.open('舊宗平均.csv','w',encoding='utf-8')as wfile:\n",
    "    for ele in allappend:\n",
    "        wfile.write(ele)\n",
    "# for ele in allappend:\n",
    "#     print ele"
   ]
  },
  {
   "cell_type": "code",
   "execution_count": null,
   "metadata": {
    "collapsed": true
   },
   "outputs": [],
   "source": []
  },
  {
   "cell_type": "code",
   "execution_count": null,
   "metadata": {
    "collapsed": true
   },
   "outputs": [],
   "source": []
  }
 ],
 "metadata": {
  "anaconda-cloud": {},
  "kernelspec": {
   "display_name": "Python [Root]",
   "language": "python",
   "name": "Python [Root]"
  },
  "language_info": {
   "codemirror_mode": {
    "name": "ipython",
    "version": 2
   },
   "file_extension": ".py",
   "mimetype": "text/x-python",
   "name": "python",
   "nbconvert_exporter": "python",
   "pygments_lexer": "ipython2",
   "version": "2.7.12"
  }
 },
 "nbformat": 4,
 "nbformat_minor": 0
}
