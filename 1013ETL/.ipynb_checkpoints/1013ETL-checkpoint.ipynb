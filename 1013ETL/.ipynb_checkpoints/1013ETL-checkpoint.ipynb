{
 "cells": [
  {
   "cell_type": "code",
   "execution_count": 3,
   "metadata": {
    "collapsed": false
   },
   "outputs": [],
   "source": [
    "#!/usr/bin/env python\n",
    "# -*- coding: utf-8 -*-\n",
    "import sys\n",
    "default_stdout = sys.stdout\n",
    "default_stderr = sys.stderr\n",
    "reload(sys)\n",
    "sys.stdout = default_stdout\n",
    "sys.stderr = default_stderr\n",
    "sys.setdefaultencoding('utf-8')\n",
    "\n",
    "import csv,io\n",
    "import os\n",
    "     \n",
    "if not os.path.exists('clean'):\n",
    "    os.makedirs('clean')\n",
    "    \n",
    "files=[]\n",
    "for f in os.listdir('./infiark1/'):\n",
    "    if os.path.isfile('./infiark1/'+f):\n",
    "        files.append(f)\n",
    "for f in files:\n",
    "    if '.csv' in f:\n",
    "        with io.open('infiark1/'+f,'r',encoding='utf-8')as rfile:\n",
    "            with io.open('clean/'+'D'+f,'w',encoding='utf-8') as wfile:\n",
    "                wfile.write(u'''EQIPnumber,location,direct,YMD,hour,laneNumber,addTotal,15Total,truckflow,carflow,scooterflow,avgspeed,avgPercent,avgCarSpace'''+u'\\n')\n",
    "                ff=[]\n",
    "                for line in rfile:\n",
    "                    ff.append(line)\n",
    "                for ele in ff[2:-2]:\n",
    "                    \n",
    "                    wfile.write(','.join(ele.split(' '))[:-2]+'\\n')\n"
   ]
  },
  {
   "cell_type": "code",
   "execution_count": null,
   "metadata": {
    "collapsed": true
   },
   "outputs": [],
   "source": []
  }
 ],
 "metadata": {
  "anaconda-cloud": {},
  "kernelspec": {
   "display_name": "Python [Root]",
   "language": "python",
   "name": "Python [Root]"
  },
  "language_info": {
   "codemirror_mode": {
    "name": "ipython",
    "version": 2
   },
   "file_extension": ".py",
   "mimetype": "text/x-python",
   "name": "python",
   "nbconvert_exporter": "python",
   "pygments_lexer": "ipython2",
   "version": "2.7.12"
  }
 },
 "nbformat": 4,
 "nbformat_minor": 0
}
